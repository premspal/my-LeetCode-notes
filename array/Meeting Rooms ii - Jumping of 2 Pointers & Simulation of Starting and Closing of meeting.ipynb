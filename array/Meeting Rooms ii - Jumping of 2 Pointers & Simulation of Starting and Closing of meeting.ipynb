{
 "cells": [
  {
   "cell_type": "code",
   "execution_count": 9,
   "id": "e8925923",
   "metadata": {},
   "outputs": [
    {
     "name": "stdout",
     "output_type": "stream",
     "text": [
      "0\n",
      "1\n",
      "2\n",
      "1\n",
      "return\n",
      "2\n"
     ]
    }
   ],
   "source": [
    "\"\"\"\n",
    "Given an array of meeting time intervals consisting of start and end times [[s1,e1],[s2,e2],...] (si < ei), \n",
    "find the minimum number of conference rooms required.\n",
    "\"\"\"\n",
    "\n",
    "\"\"\"\n",
    "O(NlogN) time O(N)space\n",
    "\n",
    "1.Basically we are simulating staring and closing of meeting.\n",
    "2.For this we are using two array start and end. Ther are in sorted order to specify sequence of start and end.\n",
    "3.if start is < end it means one meeting started. we then move to the 2ndn start time. if we found start=>end it means\n",
    "  one meeting got closed we then move end pointer. meanwhile we maintaine meeting starting and closing count.\n",
    "  \n",
    "Important Point  \n",
    "4.Basically start and end pointer are jumping on start and end time to specify simulation of starting and closing of meeting\n",
    "  and maintaining how many meeting are open at any given time. Which in end specify how many meeting room we will be needing max.\n",
    "\"\"\"\n",
    "\n",
    "def min_meeting_rooms(intervals):\n",
    "    start=sorted(i[0] for i in intervals)\n",
    "    end=sorted(i[1] for i in intervals)\n",
    "    \n",
    "    s,e=0,0\n",
    "    res,count=0,0\n",
    "    \n",
    "    while s<len(intervals):\n",
    "        print(count)\n",
    "        \n",
    "        if start[s]<end[e]:\n",
    "            count+=1\n",
    "            s+=1 \n",
    "        else:\n",
    "            count-=1\n",
    "            e+=1\n",
    "        res=max(res,count)   \n",
    "    print(\"return\")  \n",
    "    return  res      \n",
    " \n",
    "    \n",
    "    \n",
    "print(min_meeting_rooms([(0,30),(5,10),(10,15)]))"
   ]
  },
  {
   "cell_type": "code",
   "execution_count": null,
   "id": "80e6d5ef",
   "metadata": {},
   "outputs": [],
   "source": []
  }
 ],
 "metadata": {
  "kernelspec": {
   "display_name": "Python 3",
   "language": "python",
   "name": "python3"
  },
  "language_info": {
   "codemirror_mode": {
    "name": "ipython",
    "version": 3
   },
   "file_extension": ".py",
   "mimetype": "text/x-python",
   "name": "python",
   "nbconvert_exporter": "python",
   "pygments_lexer": "ipython3",
   "version": "3.9.4"
  }
 },
 "nbformat": 4,
 "nbformat_minor": 5
}

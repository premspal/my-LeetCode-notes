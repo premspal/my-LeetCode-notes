{
 "cells": [
  {
   "cell_type": "code",
   "execution_count": 35,
   "id": "c3c0bf6f",
   "metadata": {},
   "outputs": [
    {
     "name": "stdout",
     "output_type": "stream",
     "text": [
      "2\n"
     ]
    }
   ],
   "source": [
    "\"\"\"\n",
    "Given an integer array nums of length n and an integer target, find three integers in nums such that the sum is closest to target.\n",
    "\n",
    "Return the sum of the three integers.\n",
    "\n",
    "You may assume that each input would have exactly one solution\n",
    "\"\"\"\n",
    "\"\"\"\n",
    "O(N*N) time O(N) space\n",
    "\n",
    "1.A brute force approach would be to create every possible combination of 3 numbers and reutrn the ans which meats our criteria.\n",
    "2.A optimze solution would be to create important number of cobination only and return the answer which meats our criteria.\n",
    "3.To achieve this we can sort the array and use 3 pointer methode.\n",
    "\n",
    "4.How 3 pointer methode works here?\n",
    "     1.First we fix one nuber using i\n",
    "     2.then we make two more pointer l,r\n",
    "     3.we take sum of nubers using i,l,r if sum < target we move left pointer ahead because this way we move \"sum\" closer to \n",
    "       target.Similar for r pointer.\n",
    "     4.After one pass we move i one position one step ahead so create all the combination related to next ith positon.   \n",
    "\"\"\"\n",
    "\n",
    "import sys\n",
    "def threeSumClosest(nums,target):\n",
    "    nums.sort() #3\n",
    "    closestSum=sys.maxsize\n",
    "    for i in range(len(nums)-2): #4.4 & 4.1\n",
    "        l,r=i+1,len(nums)-1 #4\n",
    "        \n",
    "        while l<r:\n",
    "            \n",
    "            Sum=nums[i]+nums[l]+nums[r]\n",
    "            \n",
    "            if abs(Sum-target)<abs(closestSum-target):\n",
    "                closestSum=Sum   \n",
    "                \n",
    "\n",
    "            if Sum<target:#4.3\n",
    "                l+=1\n",
    "            else:\n",
    "                r-=1  \n",
    "    return closestSum        \n",
    "            \n",
    "        \n",
    "print(threeSumClosest([-1,2,1,-4],1))    \n"
   ]
  },
  {
   "cell_type": "code",
   "execution_count": null,
   "id": "8da72a61",
   "metadata": {},
   "outputs": [],
   "source": []
  }
 ],
 "metadata": {
  "kernelspec": {
   "display_name": "Python 3",
   "language": "python",
   "name": "python3"
  },
  "language_info": {
   "codemirror_mode": {
    "name": "ipython",
    "version": 3
   },
   "file_extension": ".py",
   "mimetype": "text/x-python",
   "name": "python",
   "nbconvert_exporter": "python",
   "pygments_lexer": "ipython3",
   "version": "3.9.4"
  }
 },
 "nbformat": 4,
 "nbformat_minor": 5
}

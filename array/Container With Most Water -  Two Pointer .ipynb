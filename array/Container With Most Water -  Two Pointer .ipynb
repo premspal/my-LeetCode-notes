{
 "cells": [
  {
   "cell_type": "code",
   "execution_count": 2,
   "id": "656f3b31",
   "metadata": {},
   "outputs": [
    {
     "name": "stdout",
     "output_type": "stream",
     "text": [
      "49\n"
     ]
    }
   ],
   "source": [
    "\"\"\"\n",
    "You are given an integer array height of length n. There are n vertical lines drawn such that the two endpoints of the ith line are (i, 0) and (i, height[i]).\n",
    "\n",
    "Find two lines that together with the x-axis form a container, such that the container contains the most water.\n",
    "\n",
    "Return the maximum amount of water a container can store.\n",
    "\"\"\"\n",
    "\n",
    "\"\"\"\n",
    "O(N) time O(1) space\n",
    "\n",
    "1.Basically we are using 2 pointer method.\n",
    "2.In ideal situation to find max area we should be having max width and max height.\n",
    "3.This is reason why we started from both end of the array. In that case we would be having max width possible.\n",
    "  only thing that can vary is now height.\n",
    "4.we calculate the area and move the pointer which is pointing to minimum height between 2 pointer.\n",
    "\n",
    "5.Why?\n",
    "Simple reason will be for minimum height pointer, \n",
    "height is fixed and widht is going to reduce anyway no matter what pointer we move.\n",
    "So if we move max area height pointer, area will be only going to reduce.\n",
    "\"\"\"\n",
    "\n",
    "def maxArea (height):\n",
    "    l,r=0,len(height)-1\n",
    "    res=0\n",
    "\n",
    "    while l<r:\n",
    "        area=(r-l)*min(height[l],height[r])\n",
    "        res=max(res,area)\n",
    "\n",
    "        if height[l]<height[r]: #5\n",
    "            l+=1\n",
    "        else:\n",
    "            r-=1\n",
    "\n",
    "    return res        \n",
    "\n",
    "print(maxArea([1,8,6,2,5,4,8,3,7]))"
   ]
  },
  {
   "cell_type": "code",
   "execution_count": null,
   "id": "30394cc7",
   "metadata": {},
   "outputs": [],
   "source": []
  }
 ],
 "metadata": {
  "kernelspec": {
   "display_name": "Python 3",
   "language": "python",
   "name": "python3"
  },
  "language_info": {
   "codemirror_mode": {
    "name": "ipython",
    "version": 3
   },
   "file_extension": ".py",
   "mimetype": "text/x-python",
   "name": "python",
   "nbconvert_exporter": "python",
   "pygments_lexer": "ipython3",
   "version": "3.9.4"
  }
 },
 "nbformat": 4,
 "nbformat_minor": 5
}

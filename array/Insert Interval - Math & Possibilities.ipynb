{
 "cells": [
  {
   "cell_type": "code",
   "execution_count": 6,
   "id": "919499da",
   "metadata": {},
   "outputs": [
    {
     "name": "stdout",
     "output_type": "stream",
     "text": [
      "[[1, 2], [3, 10], [12, 16]]\n"
     ]
    }
   ],
   "source": [
    "\n",
    "\"\"\"\n",
    "You are given an array of non-overlapping intervals intervals where intervals[i] = [starti, endi] represent the start and the end of the ith interval and intervals is sorted in ascending order by starti. You are also given an interval newInterval = [start, end] that represents the start and end of another interval.\n",
    "\n",
    "Insert newInterval into intervals such that intervals is still sorted in ascending order by starti and intervals still does not have any overlapping intervals (merge overlapping intervals if necessary).\n",
    "\n",
    "Return intervals after the insertion.\n",
    "\n",
    "\"\"\"\n",
    "\n",
    "\"\"\"\n",
    "Approach 1: \n",
    "TC O(N) SC O(N)\n",
    "\n",
    "We are basically checking 3 possibility about where our newInterval can lie and then depeding upon that making decision.\n",
    "\n",
    "1. If newInterval lie befor current inervals means, our new interval won't be overlapping currents intervals or whatever intervals\n",
    "   comes after that. So, we can insert newIinterval in our res aloing with remeaning intervals of right side.\n",
    "2. If newInterval lies after current intervals then out of many possibilities one is clear that newInterval wont overlap any current intervals\n",
    "   or other element on left side. so we will add current intervals in out  result.\n",
    "3. If above two possibility did not occure then it means newInterval is overlapping our current intervals. In this case we will\n",
    "   pick minimum and maximum form newInterval & current intervals. \n",
    "   \n",
    "Rest of work is done by for loop. Visiting all the intervals and cheking these three possibilies and then taking decision depending \n",
    "upon that.\n",
    "      \n",
    "\n",
    "\"\"\"\n",
    "\n",
    "def insert(intervals,newInterval):\n",
    "    res=[]\n",
    "    \n",
    "    for i in range(len(intervals)):\n",
    "        if newInterval[1]<intervals[i][0]:\n",
    "            res.append(newInterval)\n",
    "            return res+intervals[i:]\n",
    "        elif intervals[i][1]<newInterval[0]:\n",
    "            res.append(intervals[i])\n",
    "            \n",
    "        else:\n",
    "            newInterval=[min(intervals[i][0],newInterval[0]), max(intervals[i][1],newInterval[1])]\n",
    "    res.append(newInterval)   \n",
    "    return res\n",
    "\n",
    "print(insert([[1,2],[3,5],[6,7],[8,10],[12,16]],[4,8]))\n",
    "            \n",
    "        "
   ]
  },
  {
   "cell_type": "code",
   "execution_count": null,
   "id": "da5d00d8",
   "metadata": {},
   "outputs": [],
   "source": []
  }
 ],
 "metadata": {
  "kernelspec": {
   "display_name": "Python 3",
   "language": "python",
   "name": "python3"
  },
  "language_info": {
   "codemirror_mode": {
    "name": "ipython",
    "version": 3
   },
   "file_extension": ".py",
   "mimetype": "text/x-python",
   "name": "python",
   "nbconvert_exporter": "python",
   "pygments_lexer": "ipython3",
   "version": "3.9.4"
  }
 },
 "nbformat": 4,
 "nbformat_minor": 5
}

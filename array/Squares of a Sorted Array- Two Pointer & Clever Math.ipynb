{
 "cells": [
  {
   "cell_type": "code",
   "execution_count": 29,
   "id": "329eae3a",
   "metadata": {},
   "outputs": [
    {
     "name": "stdout",
     "output_type": "stream",
     "text": [
      "[0, 1, 9, 16, 100]\n"
     ]
    }
   ],
   "source": [
    "\"\"\"\n",
    "Approach 1: Two Pointer\n",
    "TC O(n) & SC O(n)\n",
    "\n",
    "1. We start by placing left pointer and right pointer at the start and end of the array respectively.\n",
    "2. We We then compare there square with each other. \n",
    "3. If left pointer's element square is bigger then we will sotre this in another array and increae the pointer by 1 step towards right.\n",
    "4. We do the same for right pointer. Here we decrease the right pointer by 1.\n",
    "5. When left pointer reaches to right pointer execution is complerte.\n",
    "\n",
    "6. Why we are comparing left and right pointers?\n",
    "[-4,-1,0,3,10]\n",
    "- We compare square of left and righ pointr to see which value is bigger and then we put the bigger value in our list.\n",
    "\n",
    "7. How pointers are moving>\n",
    "- When left pointer's square value is greater than right pointer's squar value. left pointer move but right pointer does not.\n",
    "  Because wahtever vlaue comes after left pinter those value might have chance to be greate than freezed right pointers value.\n",
    "- This happens until we found any right value which is bigger then we do simmilar thing with right pointer.\n",
    "\n",
    "\"\"\"\n",
    "\n",
    "\n",
    "def sortedSquares(nums):\n",
    "        res=[]\n",
    "        l,r=0,len(nums)-1\n",
    "        \n",
    "        while(l<=r):\n",
    "     \n",
    "            if nums[l]*nums[l]>nums[r]*nums[r]:\n",
    "                res.append(nums[l]*nums[l])\n",
    "                l+=1\n",
    "                \n",
    "            else:\n",
    "                res.append(nums[r]*nums[r])\n",
    "                r-=1\n",
    "            \n",
    "         \n",
    "        return res[::-1] \n",
    "print(sortedSquares([-4,-1,0,3,10]))\n",
    "        \n"
   ]
  },
  {
   "cell_type": "code",
   "execution_count": null,
   "id": "17a4c676",
   "metadata": {},
   "outputs": [],
   "source": []
  }
 ],
 "metadata": {
  "kernelspec": {
   "display_name": "Python 3",
   "language": "python",
   "name": "python3"
  },
  "language_info": {
   "codemirror_mode": {
    "name": "ipython",
    "version": 3
   },
   "file_extension": ".py",
   "mimetype": "text/x-python",
   "name": "python",
   "nbconvert_exporter": "python",
   "pygments_lexer": "ipython3",
   "version": "3.9.4"
  }
 },
 "nbformat": 4,
 "nbformat_minor": 5
}

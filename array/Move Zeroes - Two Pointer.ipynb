{
 "cells": [
  {
   "cell_type": "code",
   "execution_count": 19,
   "id": "538597ca",
   "metadata": {
    "scrolled": true
   },
   "outputs": [
    {
     "name": "stdout",
     "output_type": "stream",
     "text": [
      "[1, 3, 12, 0, 0]\n"
     ]
    }
   ],
   "source": [
    "\"\"\"\n",
    "Given an integer array nums, move all 0's to the end of it while maintaining the relative order of the non-zero elements.\n",
    "\n",
    "Note that you must do this in-place without making a copy of the array.\n",
    "\"\"\"\n",
    "\n",
    "\n",
    "\"\"\"\n",
    "Approach 1: Using 2 pointer\n",
    "TC O(n) & SC O(1)\n",
    "\n",
    "1. Basically, It is 2 pointer quesion. It seems very easy but the way it works is quite interesting.\n",
    "\n",
    "2. Left pointer is putting every none-zero element at the right place. Wheneve left pointer find zero elemnt it will stick with it.\n",
    "\n",
    "3. Right pointer is helping left pointer to find and put non-zero element at right place. we can say that right pointer is \n",
    "   showing way to left pointer where to go.\n",
    "\n",
    "4. What happens if we start right pointer from the second element instead of first?\n",
    "   - In this case it will give wrong output. Because right pointer swap every non-zero item to left pointing item. \n",
    "     so it will chage the order of list.\n",
    "   - Swapping also occurs when right and left pointer both start from 0th position but in this case the swapping of element \n",
    "     happens at the same place. which does not changes the order.\n",
    "\n",
    "\n",
    "\n",
    "\"\"\"\n",
    "\n",
    "\n",
    "def moveZeroes(nums):\n",
    "    l=0\n",
    "    for r in range(0,len(nums)): #4\n",
    "        if nums[r]:\n",
    "            nums[l],nums[r]=nums[r],nums[l] \n",
    "            l+=1\n",
    "    return nums   \n",
    "\n",
    "print(moveZeroes([0,1,0,3,12]))\n",
    "    \n",
    "    "
   ]
  },
  {
   "cell_type": "code",
   "execution_count": null,
   "id": "85fe5bc8",
   "metadata": {},
   "outputs": [],
   "source": []
  }
 ],
 "metadata": {
  "kernelspec": {
   "display_name": "Python 3",
   "language": "python",
   "name": "python3"
  },
  "language_info": {
   "codemirror_mode": {
    "name": "ipython",
    "version": 3
   },
   "file_extension": ".py",
   "mimetype": "text/x-python",
   "name": "python",
   "nbconvert_exporter": "python",
   "pygments_lexer": "ipython3",
   "version": "3.9.4"
  }
 },
 "nbformat": 4,
 "nbformat_minor": 5
}

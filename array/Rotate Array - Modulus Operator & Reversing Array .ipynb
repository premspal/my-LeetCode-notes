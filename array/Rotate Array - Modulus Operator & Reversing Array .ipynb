{
 "cells": [
  {
   "cell_type": "code",
   "execution_count": 2,
   "id": "f2a7c603",
   "metadata": {},
   "outputs": [
    {
     "name": "stdout",
     "output_type": "stream",
     "text": [
      "[5, 6, 7, 1, 2, 3, 4]\n"
     ]
    }
   ],
   "source": [
    "\"\"\"\n",
    "Given an integer array nums, rotate the array to the right by k steps, where k is non-negative\n",
    "\"\"\"\n",
    "\n",
    "\"\"\"\n",
    "O(N) time & O(1)space\n",
    "1.we use modulas property to keep k in range.\n",
    "2.Reversing the hole array and then reversing first part(0 to k-1) and then reversing second part of array(k to end) gives the answerr\n",
    "\"\"\"\n",
    "def rotate(nums,k):\n",
    "        \n",
    "    k=k%len(nums) #1\n",
    "    \n",
    "    def rotate_array(l,r):\n",
    "        while l<r:\n",
    "            nums[l],nums[r]= nums[r],nums[l]\n",
    "            l+=1\n",
    "            r-=1\n",
    "    rotate_array(0,len(nums)-1) \n",
    "    rotate_array(0,k-1)\n",
    "    rotate_array(k,len(nums)-1)\n",
    "    return nums\n",
    "\n",
    "print(rotate([1,2,3,4,5,6,7],3))\n",
    "        \n",
    "\n",
    "    "
   ]
  },
  {
   "cell_type": "code",
   "execution_count": null,
   "id": "a221e83a",
   "metadata": {},
   "outputs": [],
   "source": []
  }
 ],
 "metadata": {
  "kernelspec": {
   "display_name": "Python 3",
   "language": "python",
   "name": "python3"
  },
  "language_info": {
   "codemirror_mode": {
    "name": "ipython",
    "version": 3
   },
   "file_extension": ".py",
   "mimetype": "text/x-python",
   "name": "python",
   "nbconvert_exporter": "python",
   "pygments_lexer": "ipython3",
   "version": "3.9.4"
  }
 },
 "nbformat": 4,
 "nbformat_minor": 5
}

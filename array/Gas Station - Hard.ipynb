{
 "cells": [
  {
   "cell_type": "code",
   "execution_count": 8,
   "id": "dc41f09b",
   "metadata": {},
   "outputs": [
    {
     "name": "stdout",
     "output_type": "stream",
     "text": [
      "3\n"
     ]
    }
   ],
   "source": [
    "\"\"\"\n",
    "There are n gas stations along a circular route, where the amount of gas at the ith station is gas[i].\n",
    "\n",
    "You have a car with an unlimited gas tank and it costs cost[i] of gas to travel from the ith station to its next (i + 1)th station. You begin the journey with an empty tank at one of the gas stations.\n",
    "\n",
    "Given two integer arrays gas and cost, return the starting gas station's index if you can travel around the circuit once in the clockwise direction, otherwise return -1. If there exists a solution, it is guaranteed to be unique\n",
    "\"\"\"\n",
    "\"\"\"\n",
    "Brute Force: O(N*N) time \n",
    "-Basically just simulating question and testing every position untill we found that special start point.\n",
    "\n",
    "Optimized: O(N) time\n",
    "1.In brute force every time when we were not able to move forward to next position because our tank got empty.\n",
    "  we started again from the +1 position as compare to previous. In hope that if solution exit we are sure to find it. \n",
    "2.However starting from +1 position not requred. It is waste of time. because of below point.\n",
    "    A---B---C---D\n",
    "    1.Suppose we got our tank empty at point C and not able ot make to d. It means all the point form A to D are bad starting\n",
    "      point. It is because, form A to B to C...+ve value of gas being added in tank which make possible to reach point c. If we \n",
    "      start anywhere before c we will be missing that +ve value in tank which made this possible to reach to point c.\n",
    "      Best thing to do is start from next point in our case it will be point D.\n",
    "      \n",
    "    2.We might think that going from A to B took so much gas out, because of which car was not able to make to poind d\n",
    "    in the end.So if we remove point A and direclty start from point b. In this case it should be possible to make this work in some cases.\n",
    "    \n",
    "    3.However, point 1 is valid in all the scenerio, even when up front it doesn't seem obvious. \n",
    "    \n",
    "    4.In point 2 we are making asumption that point a is bad point.\n",
    "    \n",
    "    5.To move care from point a to b two things required. FIRST - BREAKEVEN, SECOND - SURPLUS\n",
    "    \n",
    "    6.If car move from point a to b and it exhust all the gas and on reaching b it has 0 gas. It means we have to refill hole gas\n",
    "      again. Actually it is equivalent as if A did not even exist. In this case Point A exist or not it doesn't affect the outcome.\n",
    "    \n",
    "    7. In surplus conditon if we remove point a it is even worse since we are removing some +ve gas from the tank which helpd car\n",
    "        to reach to point c. As result it will be harder than before to reach point d. \n",
    "        \n",
    "3.Last thing remain why car doesn't have to loop back to see if it will be able to reach same starting point. i.e. how we can\n",
    "  so sure that out car will be able to loop back without even cheking in reality.\n",
    "4.Before goint forward with algorithm at point 2 we have cheked if solution exist or not with this condition *sum(gas)<sum(cost)*.\n",
    "  after this we have just remove all the invalid point with the use of point 2 algorithm. in end what remains a valid point. Since,\n",
    "  only one valid solution exist, whatever valid point we will get first will be our answer. \n",
    "\n",
    "Plz refer:- https://www.youtube.com/watch?v=wDgKaNrSOEI&ab_channel=Knapsack\n",
    "\n",
    "Finally, I can die in peace knowing that I understood this  problem.               \n",
    "\"\"\"\n",
    "def canCompleteCircuit( gas,cost):\n",
    "    if(sum(gas)<sum(cost)):\n",
    "        return -1\n",
    "    tank=0 \n",
    "    start=0   \n",
    "    for i in range(len(gas)):\n",
    "        tank+=gas[i]-cost[i]\n",
    "        if tank<0:\n",
    "            tank=0\n",
    "            start=i+1\n",
    "    return start         \n",
    "print(canCompleteCircuit([1,2,3,4,5],[3,5,4,1,2]))    "
   ]
  },
  {
   "cell_type": "code",
   "execution_count": null,
   "id": "8f5a2cea",
   "metadata": {},
   "outputs": [],
   "source": []
  }
 ],
 "metadata": {
  "kernelspec": {
   "display_name": "Python 3",
   "language": "python",
   "name": "python3"
  },
  "language_info": {
   "codemirror_mode": {
    "name": "ipython",
    "version": 3
   },
   "file_extension": ".py",
   "mimetype": "text/x-python",
   "name": "python",
   "nbconvert_exporter": "python",
   "pygments_lexer": "ipython3",
   "version": "3.9.4"
  }
 },
 "nbformat": 4,
 "nbformat_minor": 5
}

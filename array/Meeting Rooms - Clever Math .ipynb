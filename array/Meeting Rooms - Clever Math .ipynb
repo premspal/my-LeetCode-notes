{
 "cells": [
  {
   "cell_type": "code",
   "execution_count": 47,
   "id": "1b0eefb2",
   "metadata": {},
   "outputs": [
    {
     "name": "stdout",
     "output_type": "stream",
     "text": [
      "False\n"
     ]
    }
   ],
   "source": [
    "\"\"\"\n",
    "Given an array of meeting time intervals consisting of start and end times [[s1,e1],[s2,e2],...] (si < ei),\n",
    "determine if a person could attend all meetings.\n",
    "\n",
    "\"\"\"\n",
    "\n",
    "\"\"\"\n",
    "Approach 1:\n",
    "TC:O(nlogn) & SC: O(n) \n",
    "\n",
    "#1. Basically we first sort the intervals on the basis of start timing of every intervals.\n",
    "\n",
    "2. Now we are 100% sure that start time of every interval is greater or equal to start time of previous interval.\n",
    "\n",
    "3. Only thing to compare is intervals's end time to the next start time. \n",
    "   If previous interval end time > start time of nex interval it means the overlap.\n",
    "   \n",
    "4.Why do we sort?\n",
    "\n",
    "    (0,10) (10,20) (15,30)-(si,ei) In sorted order\n",
    "\n",
    "    1. We can see tha s1,s2,s3 are sorted. \n",
    "    2. So s2 will alwasy be greater than s1. \n",
    "    3. We need check wer s2 will lie. 2 possibility here.\n",
    "        -s2 can lie anywhere beteen s1 adn e1.-overlap condition\n",
    "        -s2 can lie anywhere greater than e1.- non overlap conditoin\n",
    "    4. if s2>=e1. means it is non overlap condition. \n",
    "    5. we don't have to compare 3rd interval to first interval. because-\n",
    "        -when we proved s2>e1. At this point one thing to note that s2>s1 ans s2>e1. Because interval are sorted s3>s2.\n",
    "        -Here we can see that s3>s1,e1 so 1st and 3rd interval will nver operlap. \n",
    "        \n",
    "        \n",
    "Approach 2:\n",
    "TC:O(n) & SC: O(1) \n",
    "\n",
    "What if we don'tshort?\n",
    "     - In this case we won't be knowing if s2 is greater thann s1 or not. so we need compare that part also along with s2 with e1.\n",
    "     - It will make this littile difficult. However if we go with this option we have to keep track of minimum start time and maximim\n",
    "       end time of intervals as we compare each interval to it's previous one.\n",
    "     - I think we can achieve TC: O(n) and SC: O(1) in this case.  Since we are not using any sorting algorithm here. Did not tried though.\n",
    "\n",
    "\n",
    "\"\"\"\n",
    "\n",
    "def meeting(nums):\n",
    "    nums=sorted(nums,key=lambda x:x[0]) #1 #4\n",
    "    \n",
    "    \n",
    "    for i in range(1,len(nums)): #3\n",
    "        if nums[i][0]<nums[i-1][1]:\n",
    "            return False\n",
    "    \n",
    "    return True\n",
    "    \n",
    "print(meeting([[0,30],[5,10],[15,20]]))    \n",
    "    "
   ]
  },
  {
   "cell_type": "code",
   "execution_count": null,
   "id": "ccfe60c8",
   "metadata": {},
   "outputs": [],
   "source": []
  }
 ],
 "metadata": {
  "kernelspec": {
   "display_name": "Python 3",
   "language": "python",
   "name": "python3"
  },
  "language_info": {
   "codemirror_mode": {
    "name": "ipython",
    "version": 3
   },
   "file_extension": ".py",
   "mimetype": "text/x-python",
   "name": "python",
   "nbconvert_exporter": "python",
   "pygments_lexer": "ipython3",
   "version": "3.9.4"
  }
 },
 "nbformat": 4,
 "nbformat_minor": 5
}

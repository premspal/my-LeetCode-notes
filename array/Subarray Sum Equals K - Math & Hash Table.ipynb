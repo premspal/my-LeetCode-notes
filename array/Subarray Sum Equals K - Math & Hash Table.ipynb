{
 "cells": [
  {
   "cell_type": "code",
   "execution_count": 16,
   "id": "ac2f5c9f",
   "metadata": {},
   "outputs": [
    {
     "name": "stdout",
     "output_type": "stream",
     "text": [
      "2\n"
     ]
    }
   ],
   "source": [
    "\"\"\"\n",
    "Given an array of integers nums and an integer k, return the total number of subarrays whose sum equals to k.\n",
    "\n",
    "A subarray is a contiguous non-empty sequence of elements within an array\n",
    "\"\"\"\n",
    "\n",
    "\"\"\"\n",
    "O(N) time O(1) space\n",
    "\n",
    "Explanation of 3 if\n",
    "    for every iteration we are doing curSum+=nums[i]\n",
    "1.if current curSum=k what it means is from the begining of the array till the current index we have found one subarry which\n",
    "  meats the conditon.\n",
    "2.If curSum-k=value present in our ht it means there exit one or more elements(k) which when added to value will result in \n",
    "  our curSum. one time value present means one combination of subarray=K.\n",
    "3.We keep track of how many time value is present by storing it's count in ht. It is clear that as we move forward, all the \n",
    "  previous curSum becomes value or prefix sum. if we see curSum again means we need to increase it's occurance count.\n",
    "  \n",
    "why we have to do this?\n",
    "\n",
    "    If anyone is confused why the count was increased by myMap[ curr - k ] instead of just count+=1 . \n",
    "    It was because prefix sum can be same because of some negative values in the array. \n",
    "    so out next occuring k will also pair  with those negative values also . \n",
    "    consider this case A : [3 4  7    2   -3   1   4   2   1 ]  \n",
    "                         preSum : [3 7 14 16 13 14 18 20 21]\n",
    "\n",
    "\n",
    "    you can see 14 occured twice  because of the subsequence [2 -3 1] their sum is 0. \n",
    "    so When you are at the final index with value 1 . you have curr - k = 21 - 7 = 14 . \n",
    "    you check for 14 it has occured twice . so you need to consider subsequences [2 -3 1 4 2 1] and [4 2 1] . \n",
    "\n",
    "    \n",
    "\"\"\"\n",
    "\n",
    "def subarraySum(nums,k):\n",
    "    ht={}\n",
    "    count,curSum=0,0\n",
    "    \n",
    "    for i in range(0,len(nums)):\n",
    "        curSum+=nums[i]\n",
    "        \n",
    "        if curSum==k: #1\n",
    "            count+=1\n",
    "            \n",
    "        if curSum-k in ht: #2\n",
    "            count+=ht[curSum-k]\n",
    "            \n",
    "        if curSum in ht: #3\n",
    "            ht[curSum]+=1\n",
    "        else:\n",
    "            ht[curSum]=1\n",
    "    return count\n",
    "        \n",
    "print(subarraySum([1,1,1],2))    \n",
    "    "
   ]
  }
 ],
 "metadata": {
  "kernelspec": {
   "display_name": "Python 3",
   "language": "python",
   "name": "python3"
  },
  "language_info": {
   "codemirror_mode": {
    "name": "ipython",
    "version": 3
   },
   "file_extension": ".py",
   "mimetype": "text/x-python",
   "name": "python",
   "nbconvert_exporter": "python",
   "pygments_lexer": "ipython3",
   "version": "3.9.4"
  }
 },
 "nbformat": 4,
 "nbformat_minor": 5
}

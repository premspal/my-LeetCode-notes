{
 "cells": [
  {
   "cell_type": "code",
   "execution_count": 9,
   "id": "4e30ce96",
   "metadata": {},
   "outputs": [
    {
     "name": "stdout",
     "output_type": "stream",
     "text": [
      "3\n"
     ]
    }
   ],
   "source": [
    "\"\"\"\n",
    "*****************************************************************************************************************************\n",
    "Given an array nums of size n, return the majority element.\n",
    "The majority element is the element that appears more than ⌊n / 2⌋ times. \n",
    "You may assume that the majority element always exists in the array.\n",
    "*****************************************************************************************************************************\n",
    "\"\"\"\n",
    "\n",
    "\"\"\"\n",
    "\n",
    "Approach 1: Hash Table\n",
    "Tc: O(n) & SC:o(n)\n",
    "\n",
    "#1. Basically we are using hash table to keep track of occurance of particualar item in array. we do this by storing record in \n",
    "this format ht={item:no of occurance}\n",
    "\n",
    "#2. While visting every item  we increase it no of occurance by 1. and if it is the new item that we have just encountered then\n",
    "we will set no of ocuurance to 1.\n",
    "\n",
    "#3. Now we will check for the current item's no of occurance. If we found no of occurance is more than  *max appeerance\n",
    "of any item encountered so far* then it means our current item on which we are itereating will be our current most occured value.\n",
    "\n",
    "This make sense but one question here.\n",
    "\n",
    "How do we know what is the max apperance of any item so far?\n",
    "\n",
    "#4. Every time we visit the item,  we comare the current item's ocuurnace to prvious max apperance of any item so far. Which ever will be\n",
    "bigger that will be our max apperance of any item so far. In our next iteratin we will use this value to decide if the new item\n",
    "worthy to become most occured item or not so far.\n",
    "\n",
    "\n",
    "\"\"\"\n",
    "def majorityElement(nums):\n",
    "    ht={}\n",
    "    maxCount,res=0,0\n",
    "    for n in nums:\n",
    "        ht[n]=1+ ht.get(n,0) #1 & #2\n",
    "        \n",
    "        if ht[n]>maxCount: #3\n",
    "            res=n\n",
    "               \n",
    "        maxCount=max(ht[n],maxCount) #4\n",
    "    return res\n",
    "print(majorityElement([3,2,3]))\n",
    "        \n",
    "           \n"
   ]
  },
  {
   "cell_type": "code",
   "execution_count": 7,
   "id": "229917e8",
   "metadata": {},
   "outputs": [
    {
     "name": "stdout",
     "output_type": "stream",
     "text": [
      "3\n"
     ]
    }
   ],
   "source": [
    "\"\"\"\n",
    "Approach 2: Boyer Moore's Algorithm \n",
    "TC: O(n) & SC:(1)\n",
    "\n",
    "1. Basically it is the game of + and -. \n",
    "\n",
    "2.Intially we asume first item is our most occured value.\n",
    "\n",
    "3. Every time we visit new item we ask ourself this question.\n",
    "\n",
    "Is this the same item which i visited previously?\n",
    "- If yes, then this item has a chance to become the most occured value so I will increase its count by one. \n",
    "- If no, then it means this item might not be the most occured value, so I will decrease the counter by one.\n",
    "\n",
    "4. If my inital asumption is wrong then at some point my count will become 0. Means,\n",
    "- My intial asumption may or may not be true in future. so We need to rethink about this.\n",
    "- We decided to bet on the next upcoming item and repeat form step 1 to 4.\n",
    "\n",
    "\"\"\"\n",
    "\n",
    "def majorityElement(nums):\n",
    "    res,count=0,0\n",
    "    \n",
    "    for n in nums:\n",
    "        \n",
    "        if count==0: #2 \n",
    "            res=n    #4\n",
    "        \n",
    "        if n==res:   #3\n",
    "            count+=1\n",
    "        else:\n",
    "            count-=1\n",
    "            \n",
    "    return res\n",
    "print(majorityElement([3,2,3]))\n",
    "\n"
   ]
  }
 ],
 "metadata": {
  "kernelspec": {
   "display_name": "Python 3",
   "language": "python",
   "name": "python3"
  },
  "language_info": {
   "codemirror_mode": {
    "name": "ipython",
    "version": 3
   },
   "file_extension": ".py",
   "mimetype": "text/x-python",
   "name": "python",
   "nbconvert_exporter": "python",
   "pygments_lexer": "ipython3",
   "version": "3.9.4"
  }
 },
 "nbformat": 4,
 "nbformat_minor": 5
}

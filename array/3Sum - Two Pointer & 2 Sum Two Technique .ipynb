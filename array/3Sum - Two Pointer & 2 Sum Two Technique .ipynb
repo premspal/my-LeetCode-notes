{
 "cells": [
  {
   "cell_type": "code",
   "execution_count": 1,
   "id": "864c6ae5",
   "metadata": {},
   "outputs": [
    {
     "name": "stdout",
     "output_type": "stream",
     "text": [
      "[[-1, -1, 2], [-1, 0, 1]]\n"
     ]
    }
   ],
   "source": [
    "\"\"\"\n",
    "Given an integer array nums, return all the triplets [nums[i], nums[j], nums[k]] such that i != j, i != k, and \n",
    "j != k, and nums[i] + nums[j] + nums[k] == 0.\n",
    "Notice that the solution set must not contain duplicate triplets.\n",
    "\"\"\"\n",
    "\"\"\"\n",
    "Approach 1: Two Pointer\n",
    "\n",
    "TC O(N*N) SC O(N)\n",
    "\n",
    "1. Basically we are trying to avoid duplicatiion with the help of sorting.\n",
    "2. After that we are using two sum 2 two pointer technique to solve problem.\n",
    "3. After finding one 3sum pair we need to update pointer. \n",
    "   We need to make provisin to avoid dupliaction also for left and right pointer.\n",
    "4. Duplication avoiding for right pointer pointing element happens by default so no need to consider that case.\n",
    "  -eg [-2,-2,0,0,2,2]. Here once pointer reaches to l->0,r->5 then this will be on 2 pair sum 2 solution pair. \n",
    "  -Aafter that left pointer will move till 0th item but right pointer stays at the same place.\n",
    "  - her one ting to notive 0+2>0 so right pointer moves. But second last element is also 2. But  in this we dont't have to make\n",
    "    arrangement for this becuae 0+2>2 always because of increasing order arrangement.\n",
    "   \n",
    "\"\"\"\n",
    "\n",
    "def threeSum(nums):\n",
    "    res=[]\n",
    "    nums.sort()\n",
    "    \n",
    "    for i,a in enumerate(nums):\n",
    "       \n",
    "        \n",
    "        if i > 0 and a==nums[i-1]:\n",
    "    \n",
    "            continue\n",
    "            \n",
    "        l,r=i+1,len(nums)-1\n",
    "        while l<r:\n",
    "            threeSum=a + nums[l] + nums[r]\n",
    "            if threeSum>0:\n",
    "                r-=1\n",
    "            elif threeSum<0:\n",
    "                l+=1\n",
    "                \n",
    "            else:\n",
    "                res.append([a,nums[l],nums[r]])\n",
    "                l+=1\n",
    "                while nums[l]==nums[l-1] and l<r:\n",
    "                    l+=1\n",
    "    return  res\n",
    "\n",
    "                    \n",
    "        \n",
    "print(threeSum([-1,0,1,2,-1,-4]))      "
   ]
  },
  {
   "cell_type": "code",
   "execution_count": null,
   "id": "5c5920ed",
   "metadata": {},
   "outputs": [],
   "source": []
  }
 ],
 "metadata": {
  "kernelspec": {
   "display_name": "Python 3",
   "language": "python",
   "name": "python3"
  },
  "language_info": {
   "codemirror_mode": {
    "name": "ipython",
    "version": 3
   },
   "file_extension": ".py",
   "mimetype": "text/x-python",
   "name": "python",
   "nbconvert_exporter": "python",
   "pygments_lexer": "ipython3",
   "version": "3.9.4"
  }
 },
 "nbformat": 4,
 "nbformat_minor": 5
}

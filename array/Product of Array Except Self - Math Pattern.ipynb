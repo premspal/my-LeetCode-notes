{
 "cells": [
  {
   "cell_type": "code",
   "execution_count": 18,
   "id": "a56f2b93",
   "metadata": {},
   "outputs": [
    {
     "name": "stdout",
     "output_type": "stream",
     "text": [
      "[24, 12, 8, 6]\n"
     ]
    }
   ],
   "source": [
    "\"\"\"\n",
    "Given an integer array nums, return an array answer such that answer[i] is equal to the product of all the elements of nums except nums[i].\n",
    "\n",
    "The product of any prefix or suffix of nums is guaranteed to fit in a 32-bit integer.\n",
    "\n",
    "You must write an algorithm that runs in O(n) time and without using the division operation.\n",
    "\n",
    "\"\"\"\n",
    "\n",
    "\"\"\"\n",
    "Approach 1: Finding Pattern\n",
    "\n",
    "TC O(N) SC O(1)\n",
    "\n",
    "1. Basically we are finding pattern and then usiing this patter to create out output array.\n",
    "2. In this questio we need to understand how prefixes and postfixes combined together to create our output array.\n",
    "\n",
    "\"\"\"\n",
    "\n",
    "def productExceptSelf(nums):\n",
    "    res=[1]*len(nums)\n",
    "    \n",
    "    prefix=1\n",
    "    \n",
    "    for i  in range(len(nums)):\n",
    "        res[i]=res[i] *prefix\n",
    "        prefix=prefix*nums[i]\n",
    "    \n",
    "    postfix=1\n",
    "    for i in range(len(nums)-1,-1,-1):\n",
    "        res[i]=res[i]*postfix\n",
    "        postfix=postfix*nums[i]\n",
    "    return res    \n",
    "                \n",
    "\n",
    "            \n",
    "print(productExceptSelf([1,2,3,4]))       "
   ]
  },
  {
   "cell_type": "code",
   "execution_count": null,
   "id": "580c0856",
   "metadata": {},
   "outputs": [],
   "source": []
  }
 ],
 "metadata": {
  "kernelspec": {
   "display_name": "Python 3",
   "language": "python",
   "name": "python3"
  },
  "language_info": {
   "codemirror_mode": {
    "name": "ipython",
    "version": 3
   },
   "file_extension": ".py",
   "mimetype": "text/x-python",
   "name": "python",
   "nbconvert_exporter": "python",
   "pygments_lexer": "ipython3",
   "version": "3.9.4"
  }
 },
 "nbformat": 4,
 "nbformat_minor": 5
}

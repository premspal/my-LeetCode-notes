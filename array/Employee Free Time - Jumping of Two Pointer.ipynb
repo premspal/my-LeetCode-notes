{
 "cells": [
  {
   "cell_type": "code",
   "execution_count": 1,
   "id": "9bed248f",
   "metadata": {},
   "outputs": [
    {
     "name": "stdout",
     "output_type": "stream",
     "text": [
      "[[5, 6], [7, 9]]\n"
     ]
    }
   ],
   "source": [
    "\"\"\"\n",
    "We are given a list schedule of employees, which represents the working time for each employee.\n",
    "\n",
    "Each employee has a list of non-overlapping Intervals, and these intervals are in sorted order.\n",
    "\n",
    "Return the list of finite intervals representing common, positive-length free time for all employees, also in sorted order.\n",
    "\n",
    "The Intervals is an 1d-array. Each two numbers shows an interval. For example, [1,2,8,10] represents that the employee works in [1,2] and [8,10].\n",
    "\n",
    "Also, we wouldn't include intervals like [5, 5] in our answer, as they have zero length.\n",
    "\"\"\"\n",
    "\n",
    "\"\"\"\n",
    "1.Basically ther are two pointer start=intervals[i][0] and \"end\" by using which we are determining if there is gap between next\n",
    "  interval and previous one. If yes then we are adding that interval in our answer otherwise we are moving to next interval.\n",
    "  \n",
    "2.Everytime we move forwar we are also updating end pointer. In pectorial view it is understood that end pointer is covering \n",
    "  number line as it moves.\n",
    "\"\"\"\n",
    "def employee_free_time(schedule):\n",
    "    intervals=[]\n",
    "    ans=[]\n",
    "    for i in schedule:\n",
    "        for s in i:\n",
    "            intervals.append(s)\n",
    "    intervals=sorted(intervals,key=lambda x:x[0])    \n",
    "    \n",
    "    end=intervals[0][1]\n",
    "    \n",
    "    for i in range(1,len(intervals)):\n",
    "        \n",
    "        if intervals[i][0]>=end:\n",
    "            ans.append([end,intervals[i][0]])\n",
    "        end=max(end,intervals[i][1])    \n",
    "            \n",
    "    \n",
    "    return  ans\n",
    "print(employee_free_time([ [[1,3],[6,7]],[[2,4]],[[2,5],[9,12]] ]))"
   ]
  },
  {
   "cell_type": "code",
   "execution_count": null,
   "id": "84905d01",
   "metadata": {},
   "outputs": [],
   "source": []
  }
 ],
 "metadata": {
  "kernelspec": {
   "display_name": "Python 3",
   "language": "python",
   "name": "python3"
  },
  "language_info": {
   "codemirror_mode": {
    "name": "ipython",
    "version": 3
   },
   "file_extension": ".py",
   "mimetype": "text/x-python",
   "name": "python",
   "nbconvert_exporter": "python",
   "pygments_lexer": "ipython3",
   "version": "3.9.4"
  }
 },
 "nbformat": 4,
 "nbformat_minor": 5
}

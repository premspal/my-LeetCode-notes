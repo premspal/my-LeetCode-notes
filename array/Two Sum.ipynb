{
 "cells": [
  {
   "cell_type": "code",
   "execution_count": 69,
   "id": "d1796e4e",
   "metadata": {},
   "outputs": [
    {
     "name": "stdout",
     "output_type": "stream",
     "text": [
      "[1, 2]\n"
     ]
    }
   ],
   "source": [
    "\"\"\" \n",
    "*****************************************************************************************************************************\n",
    "Given an array of integers nums and an integer target, return indices of the two numbers such that they add up to target.\n",
    "\n",
    "You may assume that each input would have exactly one solution, and you may not use the same element twice.\n",
    "\n",
    "You can return the answer in any order.\n",
    "\n",
    "Input: nums = [2,7,11,15], target = 9\n",
    "Output: [0,1]\n",
    "Explanation: Because nums[0] + nums[1] == 9, we return [0, 1].\n",
    "\n",
    "*******************************************************************************************************************************\n",
    "\"\"\"\n",
    "\n",
    "\"\"\"\n",
    "Approach 1: O(N*N)\n",
    "\n",
    "1.Bruteforce-Just visiting each value and adding with other values of array and checking if sums equal to target.\n",
    "If yes then return the indexes. \n",
    "\n",
    "#2. Making sure that I don't check for previously cheked vallues to avoid some repetition. \n",
    "However in some other technique where we start second loop from 0 like first loop. There we have to make arrangement to avoid \n",
    "adding same element to itself. other wise there will be an error for specific cases where target and counterpart are same.\n",
    "\n",
    "\"\"\"\n",
    "\n",
    "\n",
    "\n",
    "\n",
    "def two_sum(arr,target):\n",
    "    \n",
    "    for i in range(0,len(arr)): \n",
    "        for j in range(i+1,len(arr)): #2\n",
    "            if (arr[i]+arr[j]==target): \n",
    "                return [i,j]\n",
    "                  \n",
    "print(two_sum([3,2,4],6) )       \n",
    "\n",
    "    \n",
    "    \n",
    "    "
   ]
  },
  {
   "cell_type": "code",
   "execution_count": 67,
   "id": "19187060",
   "metadata": {},
   "outputs": [
    {
     "name": "stdout",
     "output_type": "stream",
     "text": [
      "(1, 2)\n"
     ]
    }
   ],
   "source": [
    "\"\"\"\n",
    "Approch 2: O(N)\n",
    "\n",
    "1.Basically storing all the element of array in hashTable with corresponding original index. Format:- ht={item:index} \n",
    "\n",
    "2.Afther this We have to go throught each element of array\n",
    "and check if it's counter part exit in hashTable.\n",
    "\n",
    "3.If No, then we will move to next element. If yes, then return the indexes. \n",
    "\n",
    "* In above algorithm we need to make arrangement for situation wher item and it's counter part can be same. we do this by adding \n",
    "codition in if statemet. Like this:- ht[target-[numsi]]!=i\n",
    "\n",
    "4.The above problem arises because we make hole hashTable initially and then itterate through array.\n",
    "This can be avoided with small tricky algorithm.\n",
    "-First we visit a element.\n",
    "-Then we check, if this element's couunterpart exist in our hastTable. If not then we add the item with it's index in hashTable. e.g ht={item:index}\n",
    "-If yes, then it means we found item and it's counter part and we return the correspoinding indexes.\n",
    "* In this case we don't have to worry about situation wher item and it's counter part are the same item of an array.\n",
    "\n",
    "\n",
    "\"\"\"\n",
    "def twoSum(nums,target):\n",
    "    ht={}\n",
    "     \n",
    "    for i in range(len(nums)):\n",
    "        if target-nums[i] not in ht:\n",
    "            ht[nums[i]]=i\n",
    "        else:\n",
    "            return (ht[target-nums[i]],i)\n",
    "        \n",
    "print(twoSum([3,2,4],6))   "
   ]
  }
 ],
 "metadata": {
  "kernelspec": {
   "display_name": "Python 3",
   "language": "python",
   "name": "python3"
  },
  "language_info": {
   "codemirror_mode": {
    "name": "ipython",
    "version": 3
   },
   "file_extension": ".py",
   "mimetype": "text/x-python",
   "name": "python",
   "nbconvert_exporter": "python",
   "pygments_lexer": "ipython3",
   "version": "3.9.4"
  }
 },
 "nbformat": 4,
 "nbformat_minor": 5
}

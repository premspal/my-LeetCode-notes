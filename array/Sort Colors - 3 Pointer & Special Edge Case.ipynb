{
 "cells": [
  {
   "cell_type": "code",
   "execution_count": 12,
   "id": "1d5cf145",
   "metadata": {},
   "outputs": [
    {
     "name": "stdout",
     "output_type": "stream",
     "text": [
      "[0, 0, 1, 1, 2, 2]\n"
     ]
    }
   ],
   "source": [
    "\"\"\"\n",
    "Given an array nums with n objects colored red, white, or blue, \n",
    "sort them in-place so that objects of the same color are adjacent, with the colors in the order red, white, and blue.\n",
    "We will use the integers 0, 1, and 2 to represent the color red, white, and blue, respectively.\n",
    "\"\"\"\n",
    "\n",
    "\"\"\"\n",
    "O(N) time O(N) space - Single Pass\n",
    "\n",
    "1.Basically we are using 3 pointer format. \n",
    "    -left pointer designate that all the 0 are on it's left\n",
    "    -right pointer designate that all the 2 are on it's right\n",
    "    -middle pointer taking caser of 1 in middle\n",
    "\n",
    "2. One special edge case here\n",
    "\n",
    "    [0,1(l),2(m),1,0(r),2]\n",
    "    \n",
    "    -This edge case happens when middle pointer points to 2 here. In This case 2 wll be swapped with r. When it happens 0\n",
    "     will be hanging in middle.\n",
    "     \n",
    "     Why it is happening?\n",
    "     \n",
    "         To understand this We first need to understand what is actual role of l,m & r pointers.\n",
    "         \n",
    "         1.m is main pointer here. It tells how and when to swap. \n",
    "         2.left having chance to point 0 or 1 at any random time.\n",
    "         3.m having chance to point 0,1 or 2 at any random time.\n",
    "         4.r also having chance to point 0,1 or 2 at any random time.\n",
    "         \n",
    "         5.t means that when m pointer swaps with r pointer any of there values (0,1,2) can take its place in middle.\n",
    "         \n",
    "         -if 1 comes in middle, no issue because we want one 1 in middle.\n",
    "         \n",
    "         -if m points 0 then left pointer is already taking care of 0 - no issue here also.\n",
    "         \n",
    "         -But if m points to 2 then all 3 values can take it's place at any random time- 0 or 1 or 2. \n",
    "          This happens because of point 3 and 4 above.\n",
    "          \n",
    "             -when it is replace by 1 no issue here.\n",
    "             \n",
    "             -but if is replaced by 0 then m will move one step again and then 0 will be hanging there in middle\n",
    "             \n",
    "             -If it is replaced by 2 then again 2 will be hanging in  middle just like 0\n",
    "             \n",
    "             -Above hanging happens when it points to 2 only(reason being possibility of all 3 number appearing at this place)\n",
    "             .This can be avoided if we don't move m pointer in this case.               \n",
    "\"\"\"\n",
    "\n",
    "def sortColors(nums):\n",
    "    \n",
    "    l,r=0,len(nums)-1\n",
    "    m=0\n",
    "    \n",
    "    while m<=r:\n",
    "        \n",
    "        if nums[m]==0:\n",
    "            nums[m],nums[l]=nums[l],nums[m]\n",
    "            l+=1\n",
    "            \n",
    "        elif nums[m]==2:\n",
    "            nums[m],nums[r]=nums[r],nums[m]\n",
    "            r-=1\n",
    "            m-=1 #2\n",
    "            \n",
    "        m+=1   \n",
    "        \n",
    "    return nums\n",
    "\n",
    "print(sortColors([2,0,2,1,1,0]))\n",
    "           "
   ]
  }
 ],
 "metadata": {
  "kernelspec": {
   "display_name": "Python 3",
   "language": "python",
   "name": "python3"
  },
  "language_info": {
   "codemirror_mode": {
    "name": "ipython",
    "version": 3
   },
   "file_extension": ".py",
   "mimetype": "text/x-python",
   "name": "python",
   "nbconvert_exporter": "python",
   "pygments_lexer": "ipython3",
   "version": "3.9.4"
  }
 },
 "nbformat": 4,
 "nbformat_minor": 5
}

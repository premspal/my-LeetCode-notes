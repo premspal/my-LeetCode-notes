{
 "cells": [
  {
   "cell_type": "code",
   "execution_count": 12,
   "id": "b7a68bc7",
   "metadata": {},
   "outputs": [
    {
     "name": "stdout",
     "output_type": "stream",
     "text": [
      "[[1, 6], [8, 10], [15, 18]]\n"
     ]
    }
   ],
   "source": [
    "\"\"\"\n",
    "Given an array of intervals where intervals[i] = [starti, endi], merge all overlapping intervals, \n",
    "and return an array of the non-overlapping intervals that cover all the intervals in the input.\n",
    "\"\"\"\n",
    "\n",
    "\"\"\"\n",
    "O(n) time \n",
    "\n",
    "1.After sorting the intervals we have to check each element to it's prvious interval if it is overlapping or not.\n",
    "2.If yes then we will be taking max end from prvious and current intervals so that we can successfully merge.\n",
    "3.If no then we don't have to do anything. We will just add current interval to our result list.\n",
    "\n",
    "\n",
    "\n",
    "\"\"\"\n",
    "\n",
    "\n",
    "def merge(intervals):\n",
    "    intervals.sort(key=lambda x:x[0])\n",
    "    res=[intervals[0]]\n",
    "\n",
    "    for start,end in intervals[1:]:\n",
    "        lastend=res[-1][1]\n",
    "        if start<=lastend:\n",
    "            res[-1][1]=max(end,lastend)\n",
    "        else:\n",
    "            res.append([start,end])\n",
    "    return res        \n",
    "\n",
    "\n",
    "print(merge([[1,3],[8,10],[2,6],[15,18]]))"
   ]
  },
  {
   "cell_type": "code",
   "execution_count": null,
   "id": "fbdd7074",
   "metadata": {},
   "outputs": [],
   "source": []
  }
 ],
 "metadata": {
  "kernelspec": {
   "display_name": "Python 3",
   "language": "python",
   "name": "python3"
  },
  "language_info": {
   "codemirror_mode": {
    "name": "ipython",
    "version": 3
   },
   "file_extension": ".py",
   "mimetype": "text/x-python",
   "name": "python",
   "nbconvert_exporter": "python",
   "pygments_lexer": "ipython3",
   "version": "3.9.4"
  }
 },
 "nbformat": 4,
 "nbformat_minor": 5
}

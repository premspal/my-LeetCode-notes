{
 "cells": [
  {
   "cell_type": "code",
   "execution_count": 22,
   "id": "16cfd869",
   "metadata": {},
   "outputs": [
    {
     "name": "stdout",
     "output_type": "stream",
     "text": [
      "2\n"
     ]
    }
   ],
   "source": [
    "\"\"\"\n",
    "Given a binary array nums, return the maximum length of a contiguous subarray with an equal number of 0 and 1\n",
    "\"\"\"\n",
    "\"\"\"\n",
    "O(N) time : O(1) space\n",
    "\n",
    "1.Basically we are maintaning res count as we go throgh the array. adding 1 to res if we encounter 1 othrwise -1 when 0 found.\n",
    "2.Evey time new res found we add this in ht along with it's respective index.\n",
    "3.If we incounter the same res again it means no value got added between last res encounterd so the lenghth between them should\n",
    "  have equal number of 0 and 1.\n",
    "4.If somehow res reached to 0 then it means whole lenght of array till that point conatin equal number of 0 and 1 so that will\n",
    "  be our answer\n",
    "  \n",
    "This problem more of finding pattern.  \n",
    "  \n",
    "\"\"\"\n",
    "\n",
    "def findMaxLength(nums):\n",
    "    ht={}\n",
    "    res,longestLength=0,0\n",
    "    \n",
    "    for i in range(len(nums)):\n",
    "\n",
    "        res+=1 if nums[i]==1 else -1\n",
    "        \n",
    "        if res==0:\n",
    "            longestLength=max(longestLength,i+1)\n",
    "        elif res in ht:\n",
    "            longestLength=max(i-ht[count],longestLength)\n",
    "        else:\n",
    "            ht[res]=i       \n",
    "    return longestLength        \n",
    "  \n",
    "print(findMaxLength([0,1]))    "
   ]
  },
  {
   "cell_type": "code",
   "execution_count": null,
   "id": "45281b10",
   "metadata": {},
   "outputs": [],
   "source": []
  }
 ],
 "metadata": {
  "kernelspec": {
   "display_name": "Python 3",
   "language": "python",
   "name": "python3"
  },
  "language_info": {
   "codemirror_mode": {
    "name": "ipython",
    "version": 3
   },
   "file_extension": ".py",
   "mimetype": "text/x-python",
   "name": "python",
   "nbconvert_exporter": "python",
   "pygments_lexer": "ipython3",
   "version": "3.9.4"
  }
 },
 "nbformat": 4,
 "nbformat_minor": 5
}

{
 "cells": [
  {
   "cell_type": "code",
   "execution_count": 11,
   "id": "ca287939",
   "metadata": {},
   "outputs": [
    {
     "name": "stdout",
     "output_type": "stream",
     "text": [
      "0\n"
     ]
    }
   ],
   "source": [
    "\"\"\"\n",
    "***************************************************************************************************************************\n",
    "You are given an array prices where prices[i] is the price of a given stock on the ith day.\n",
    "\n",
    "You want to maximize your profit by choosing a single day to buy one stock and choosing a different day in the future to sell that stock.\n",
    "\n",
    "Return the maximum profit you can achieve from this transaction. If you cannot achieve any profit, return 0.\n",
    "\n",
    "\n",
    "***************************************************************************************************************************\n",
    "\n",
    "\"\"\"\n",
    "\n",
    "\"\"\"\n",
    "Approach 1: O(N) | Sliding Window\n",
    "\n",
    "1. Basically we are trying to keep track of minimum value in array with the help of lef and right pointer.\n",
    "\n",
    "2. Here it is how it works:-\n",
    "\n",
    "-if left < right we don't need to make any changes in left pointersince it is already in correct positon. \n",
    "we will move to next item in array to comapre with left pointer means we will increase right pointer by 1\n",
    "\n",
    "-if  left> right, means right is new lowest value. In this case we will shift our left pointer at the place of right pointer\n",
    "becaue this will be our new lowest item in list i.e l=r. after that as usual we will increae rigt pointer by 1.\n",
    "\n",
    "* no 2 is algorithm for finding lowest value in list\n",
    "\n",
    "3.While keeping track of minum value in this case we also need to keep track of difference between lowest found value and \n",
    "next item i.e profit in the list.\n",
    "\n",
    "4.we will keep track of max profit and in the end we will reurn it as our answer.\n",
    "\"\"\"\n",
    "\n",
    "def maxProfit(prices):\n",
    "    l=0\n",
    "    r=1\n",
    "    maxP=0\n",
    "    \n",
    "    while r<len(prices):\n",
    "        if prices[l] < prices[r]:\n",
    "            profit=prices[r]-prices[l]\n",
    "            maxP=max(maxP,profit)\n",
    "            r+=1\n",
    "        else:\n",
    "            l=r\n",
    "            r+=1\n",
    "    return maxP\n",
    "print(maxProfit([7,6,4,3,1]))\n",
    "            \n"
   ]
  },
  {
   "cell_type": "code",
   "execution_count": 7,
   "id": "6f0ce4f5",
   "metadata": {},
   "outputs": [
    {
     "name": "stdout",
     "output_type": "stream",
     "text": [
      " Inside if l=0 r=2\n",
      " Inside if l=0 r=3\n",
      " Inside if l=0 r=4\n",
      "2\n"
     ]
    }
   ],
   "source": [
    "# finding the minimum value in array\n",
    "\n",
    "\"\"\"\n",
    "1. Left pointer does not move if  left item is less thant right. Only right pointer move one step towards right. We keep track of left pointer pointing item.\n",
    "\n",
    "2. if right<left then. left pointer tooks the position of riht pointer i.e l=r. In this case also right pointer move one step right.\n",
    "\n",
    "In the end whichever item left pointre is pointer will be our ans.\n",
    "\n",
    "#3. Here we can mention r+=1 at the end of loop. which will have same meaning sice we are incrementing r by one no matter \n",
    "if condition is true or false.\n",
    "\n",
    "#4 It will make sure our loop hit each and every element in list.\n",
    "\"\"\"\n",
    "def minimum(arr):\n",
    "    l=0\n",
    "    r=1\n",
    "    \n",
    "    while r<len(arr): #4\n",
    "        if arr[l]<arr[r]:\n",
    "            m=arr[l]\n",
    "            r+=1      #3\n",
    "            print(\" Inside if l={} r={}\".format(l,r))\n",
    "        else:\n",
    "            l=r\n",
    "            r+=1\n",
    "            print(\" Inside else l={} r={}\".format(l,r))\n",
    "    return arr[l]\n",
    "print(minimum([2,3,4,5]))\n",
    "\n",
    "            "
   ]
  },
  {
   "cell_type": "code",
   "execution_count": 8,
   "id": "b59a7b11",
   "metadata": {},
   "outputs": [
    {
     "name": "stdout",
     "output_type": "stream",
     "text": [
      " Inside else l=1 r=2\n",
      " Inside else l=2 r=3\n",
      " Inside else l=3 r=4\n",
      "5\n"
     ]
    }
   ],
   "source": [
    "# finding the maximum value in array\n",
    "# converse of above algorithm.\n",
    "\n",
    "def minimum(arr):\n",
    "    l=0\n",
    "    r=1\n",
    "    \n",
    "    while r<len(arr):\n",
    "        if arr[l]>arr[r]:\n",
    "            m=arr[l]\n",
    "            r+=1\n",
    "            print(\" Inside if l={} r={}\".format(l,r))\n",
    "        else:\n",
    "            l=r\n",
    "            r+=1\n",
    "            print(\" Inside else l={} r={}\".format(l,r))\n",
    "    return arr[l]\n",
    "print(minimum([2,3,4,5]))\n"
   ]
  },
  {
   "cell_type": "code",
   "execution_count": null,
   "id": "a2a29087",
   "metadata": {},
   "outputs": [],
   "source": []
  }
 ],
 "metadata": {
  "kernelspec": {
   "display_name": "Python 3",
   "language": "python",
   "name": "python3"
  },
  "language_info": {
   "codemirror_mode": {
    "name": "ipython",
    "version": 3
   },
   "file_extension": ".py",
   "mimetype": "text/x-python",
   "name": "python",
   "nbconvert_exporter": "python",
   "pygments_lexer": "ipython3",
   "version": "3.9.4"
  }
 },
 "nbformat": 4,
 "nbformat_minor": 5
}

{
 "cells": [
  {
   "cell_type": "code",
   "execution_count": 1,
   "id": "0be76cf5",
   "metadata": {},
   "outputs": [
    {
     "name": "stdout",
     "output_type": "stream",
     "text": [
      "1\n"
     ]
    }
   ],
   "source": [
    "\"\"\"\n",
    "Given an array of intervals intervals where intervals[i] = [starti, endi], \n",
    "return the minimum number of intervals you need to remove to make the rest of the intervals non-overlapping.\n",
    "\"\"\"\n",
    "\n",
    "\"\"\"\n",
    "O(NlogN) time and O(1) space\n",
    "\n",
    "1.The main thing in this alogorithm is \"prevEnd\". Which tell us should we keep this current interval or delete to make all \n",
    "  the intervals non-overlapping.\n",
    "2.If any interval starts before \"prevEnd\" it mens there is overlapping. So, we have to exclude one interval. We do so be moving\n",
    "  our prevEnd to min end of both overlapping intervals. Basically means excluding higher end of intervasl. We do this to minimize\n",
    "  possible overlapping in future.\n",
    "3.If ther is no overlapping it means we don't have to do anything so we just move our prevEnd to nex end value.  \n",
    "\n",
    "Draw picture to understand more clearly.\n",
    "\"\"\"\n",
    "def eraseOverlapIntervals(intervals):\n",
    "    intervals.sort()\n",
    "    prevEnd=intervals[0][1]\n",
    "    count=0\n",
    "    \n",
    "    for start,end in intervals[1:]:\n",
    "        if start>=prevEnd: \n",
    "            prevEnd=end\n",
    "        else:\n",
    "            count+=1\n",
    "            prevEnd=min(prevEnd,end)\n",
    "    return count        \n",
    "print(eraseOverlapIntervals([[1,2],[2,3],[3,4],[1,3]]))            "
   ]
  },
  {
   "cell_type": "code",
   "execution_count": null,
   "id": "2432e9c9",
   "metadata": {},
   "outputs": [],
   "source": []
  }
 ],
 "metadata": {
  "kernelspec": {
   "display_name": "Python 3",
   "language": "python",
   "name": "python3"
  },
  "language_info": {
   "codemirror_mode": {
    "name": "ipython",
    "version": 3
   },
   "file_extension": ".py",
   "mimetype": "text/x-python",
   "name": "python",
   "nbconvert_exporter": "python",
   "pygments_lexer": "ipython3",
   "version": "3.9.4"
  }
 },
 "nbformat": 4,
 "nbformat_minor": 5
}

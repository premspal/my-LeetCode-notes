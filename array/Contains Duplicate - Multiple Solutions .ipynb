{
 "cells": [
  {
   "cell_type": "code",
   "execution_count": 11,
   "id": "5e6c9cdb",
   "metadata": {},
   "outputs": [
    {
     "name": "stdout",
     "output_type": "stream",
     "text": [
      "True\n"
     ]
    }
   ],
   "source": [
    "\"\"\"\n",
    "Given an integer array nums, \n",
    "return true if any value appears at least twice in the array, and return false if every element is distinct.\n",
    "\"\"\"\n",
    "\n",
    "\"\"\"\n",
    "Approach: Using set or hashTable \n",
    "TC:O(N) & SC:O(N)\n",
    "\n",
    "#1. Basically we are using set to determine if any duplicate exit in list.\n",
    "#2. Every time before adding any new value from the list ot set we check if this value already exist.\n",
    "   depending upon that we return true or false.\n",
    "\n",
    "\"\"\"\n",
    "\n",
    "def containsDuplicate(nums):\n",
    "    \n",
    "    hashSet=set() #1\n",
    "       \n",
    "    for num in nums:\n",
    "        \n",
    "        if num in hashSet: #2\n",
    "            return True\n",
    "        \n",
    "        hashSet.add(num)\n",
    "    return False    \n",
    "\n",
    "        \n",
    "print(containsDuplicate([1,2,3,1]))\n",
    "\n",
    "\"\"\"\n",
    "Mulitple solutions:-\n",
    "\n",
    "1. In loop we can compare each element of array to every other element to check if current element is duplicate or not. \n",
    "   TC: O(N*N) & SC:O(1)\n",
    "   \n",
    "2. We can make hash table- item as key and maintain count of item visited so far as value. ie. ht={item:count of item}.\n",
    "   If we found items'count greater than 2 then duplcate exits. \n",
    "   TC: O(N) & SC:O(1)\n",
    "   \n",
    "3. We can use index loopkup technique to mark each item. Item as a index in another list.   \n",
    "   TC: O(N) & SC:O(1) \n",
    "\n",
    "\"\"\"\n",
    "\n",
    "\n"
   ]
  },
  {
   "cell_type": "code",
   "execution_count": null,
   "id": "fabc8e81",
   "metadata": {},
   "outputs": [],
   "source": []
  }
 ],
 "metadata": {
  "kernelspec": {
   "display_name": "Python 3",
   "language": "python",
   "name": "python3"
  },
  "language_info": {
   "codemirror_mode": {
    "name": "ipython",
    "version": 3
   },
   "file_extension": ".py",
   "mimetype": "text/x-python",
   "name": "python",
   "nbconvert_exporter": "python",
   "pygments_lexer": "ipython3",
   "version": "3.9.4"
  }
 },
 "nbformat": 4,
 "nbformat_minor": 5
}

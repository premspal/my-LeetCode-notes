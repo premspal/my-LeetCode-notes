{
 "cells": [
  {
   "cell_type": "code",
   "execution_count": 6,
   "id": "a9046d24",
   "metadata": {},
   "outputs": [
    {
     "name": "stdout",
     "output_type": "stream",
     "text": [
      "4\n"
     ]
    }
   ],
   "source": [
    "\"\"\"\n",
    "Given an unsorted array of integers nums, return the length of the longest consecutive elements sequence.\n",
    "\n",
    "You must write an algorithm that runs in O(n) time.\n",
    "\"\"\"\n",
    "\n",
    "\"\"\"\n",
    "O(N) time O(1) space\n",
    "1.Consecutive sequence have some property.e.g,\n",
    "    1 2 3 4...100...200...\n",
    "2.As we can see ther are 3 group of sequence.\n",
    "\n",
    "3.It is clear that if a number doesn't have any value towards it's lef means this will be starting point of that sequence.\n",
    "Using this property we will count how many consecutive nubers are there in respective group. if number as some value\n",
    "towards it's left means it is not starting point of sequence and we can skip it.\n",
    "   \n",
    "\"\"\"\n",
    "\n",
    "def longestConsecutive(nums):\n",
    "    numSet=set(nums)\n",
    "    longest=0\n",
    "    for i in nums:\n",
    "        if i-1 not in numSet:\n",
    "            count=0\n",
    "            while i+count in numSet:\n",
    "                count+=1\n",
    "            longest=max(count,longest)       \n",
    "    return longest\n",
    "            \n",
    "print(longestConsecutive([100,4,200,1,3,2]))            \n",
    "        "
   ]
  },
  {
   "cell_type": "code",
   "execution_count": null,
   "id": "029ac984",
   "metadata": {},
   "outputs": [],
   "source": []
  }
 ],
 "metadata": {
  "kernelspec": {
   "display_name": "Python 3",
   "language": "python",
   "name": "python3"
  },
  "language_info": {
   "codemirror_mode": {
    "name": "ipython",
    "version": 3
   },
   "file_extension": ".py",
   "mimetype": "text/x-python",
   "name": "python",
   "nbconvert_exporter": "python",
   "pygments_lexer": "ipython3",
   "version": "3.9.4"
  }
 },
 "nbformat": 4,
 "nbformat_minor": 5
}

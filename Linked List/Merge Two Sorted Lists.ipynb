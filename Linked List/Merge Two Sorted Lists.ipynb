{
 "cells": [
  {
   "cell_type": "code",
   "execution_count": 1,
   "id": "6abd180c",
   "metadata": {},
   "outputs": [],
   "source": [
    "'''\n",
    "You are given the heads of two sorted linked lists list1 and list2.\n",
    "\n",
    "Merge the two lists in a one sorted list. The list should be made by splicing together the nodes of the first two lists.\n",
    "\n",
    "Return the head of the merged linked list.\n",
    "'''\n",
    "\n",
    "# Solution in leetcode\n",
    "# Definition for singly-linked list.\n",
    "# class ListNode(object):\n",
    "#     def __init__(self, val=0, next=None):\n",
    "#         self.val = val\n",
    "#         self.next = next\n",
    "class Solution(object):\n",
    "    def mergeTwoLists(self, list1, list2):\n",
    "        \"\"\"\n",
    "        :type list1: Optional[ListNode]\n",
    "        :type list2: Optional[ListNode]\n",
    "        :rtype: Optional[ListNode]\n",
    "        \"\"\"\n",
    "\n",
    "        dummy=ListNode()\n",
    "        tail=dummy\n",
    "\n",
    "        while list1 and list2:\n",
    "            if list1.val<list2.val:\n",
    "                tail.next=list1\n",
    "                list1=list1.next\n",
    "            else:\n",
    "                tail.next=list2\n",
    "                list2=list2.next\n",
    "\n",
    "            tail=tail.next\n",
    "\n",
    "        if list1:\n",
    "            tail.next=list1\n",
    "        else:\n",
    "            tail.next=list2\n",
    "\n",
    "        return dummy.next                \n",
    "\n",
    "        "
   ]
  }
 ],
 "metadata": {
  "kernelspec": {
   "display_name": "Python 3 (ipykernel)",
   "language": "python",
   "name": "python3"
  },
  "language_info": {
   "codemirror_mode": {
    "name": "ipython",
    "version": 3
   },
   "file_extension": ".py",
   "mimetype": "text/x-python",
   "name": "python",
   "nbconvert_exporter": "python",
   "pygments_lexer": "ipython3",
   "version": "3.11.2"
  }
 },
 "nbformat": 4,
 "nbformat_minor": 5
}

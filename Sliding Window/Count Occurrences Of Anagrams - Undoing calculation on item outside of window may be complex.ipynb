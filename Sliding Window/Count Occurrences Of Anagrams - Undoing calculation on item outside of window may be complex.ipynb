{
 "cells": [
  {
   "cell_type": "code",
   "execution_count": 43,
   "id": "97486bac",
   "metadata": {},
   "outputs": [
    {
     "name": "stdout",
     "output_type": "stream",
     "text": [
      "3\n"
     ]
    }
   ],
   "source": [
    "\"\"\"\n",
    "Given a word pat and a text txt. Return the count of the occurences of anagrams of the word in the text.\n",
    "\"\"\"\n",
    "\"\"\"\n",
    "Most Important Point:\n",
    "\n",
    "As we move from left to right in sliding window we are undoing calulation made on every characher of \n",
    "string \"txt\" \n",
    "\n",
    "Plz refer:https://www.youtube.com/watch?v=MW4lJ8Y0xXk&list=PL_z_8CaSLPWeM8BDJmIYDaoQ5zuwyxnfj&index=6&ab_channel=AdityaVerma\n",
    "\"\"\"\n",
    "def search(pat, txt):\n",
    "    ht={}\n",
    "    \n",
    "    #making of ht\n",
    "    for i in pat:\n",
    "        if i in ht:\n",
    "            ht[i]+=1\n",
    "        else:\n",
    "            ht[i]=1\n",
    "    del i\n",
    "    \n",
    "    i,j,ans,count=0,0,0,len(ht)\n",
    "    \n",
    "    #starting sliding window\n",
    "    while j<len(txt):\n",
    "        \n",
    "        #Checking if char of string \"txt\" is mathced wiht value of ht. If yes then we decrement char\n",
    "        #count by 1 to show that we found one matching char. we do this for every char of string.\n",
    "        if txt[j] in ht:\n",
    "            ht[txt[j]]-=1\n",
    "            \n",
    "            #At anytime if value of char in ht becomes 0 it means we have exhausted all the char count value in ht.\n",
    "            #It measn we have to decrement distince count of char.\n",
    "            \n",
    "            if ht[txt[j]]==0:\n",
    "                count-=1\n",
    "        #Checking if window has reached or not        \n",
    "        if j-i+1<len(pat):\n",
    "            j+=1\n",
    "        else:\n",
    "            #count=0 is just showing word got matched in text string and this will be one of our answer count.\n",
    "            if count==0:\n",
    "                ans+=1\n",
    "            #As we move from left to riht we are removing calculation made on charcher outside of requied window    \n",
    "            if txt[i] in ht:\n",
    "                ht[txt[i]]+=1\n",
    "                if ht[txt[i]]==1:\n",
    "                    count+=1\n",
    "            i+=1\n",
    "            j+=1\n",
    "                        \n",
    "    return ans        \n",
    "print(search(\"for\",\"forxxorfxdofr\"))            \n",
    "            \n",
    "            \n"
   ]
  },
  {
   "cell_type": "code",
   "execution_count": null,
   "id": "037ccb6f",
   "metadata": {},
   "outputs": [],
   "source": []
  }
 ],
 "metadata": {
  "kernelspec": {
   "display_name": "Python 3",
   "language": "python",
   "name": "python3"
  },
  "language_info": {
   "codemirror_mode": {
    "name": "ipython",
    "version": 3
   },
   "file_extension": ".py",
   "mimetype": "text/x-python",
   "name": "python",
   "nbconvert_exporter": "python",
   "pygments_lexer": "ipython3",
   "version": "3.9.4"
  }
 },
 "nbformat": 4,
 "nbformat_minor": 5
}

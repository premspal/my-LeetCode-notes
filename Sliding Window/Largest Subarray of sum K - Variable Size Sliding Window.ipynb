{
 "cells": [
  {
   "cell_type": "code",
   "execution_count": null,
   "id": "0ee0810b",
   "metadata": {},
   "outputs": [
    {
     "name": "stdout",
     "output_type": "stream",
     "text": [
      "4\n",
      "3\n"
     ]
    }
   ],
   "source": [
    "\"\"\"\n",
    "Given an array containing N integers and an integer K., \n",
    "Your task is to find the length of the longest Sub-Array with the sum of the elements equal to the given value K.\n",
    "For +ve integer only.\n",
    "\"\"\"\n",
    "\"\"\"\n",
    "Here Size of window is not constant because of this we are also writing the code for k>condition along\n",
    "with two other conditon that we have been writing in fixed size sliding window. \n",
    "i.e. j-i+1<k & k j-i+1==k\n",
    "\n",
    "\"\"\"\n",
    "\"\"\"\n",
    "What is difference between fixed size window and varable size window problem?\n",
    "fixed size \n",
    "- Window size is fixed we need to maximize or minimize condition\n",
    "Variable size \n",
    "- conditon is fixed we need to maximize or minimize window size\n",
    "\"\"\"\n",
    "\n",
    "def lenOfLongSubarr (arr, n, k) :\n",
    "    i,j,Sum,curLenMax=0,0,0,0\n",
    "    while j<n:\n",
    "        Sum=Sum+arr[j]\n",
    "\n",
    "        if Sum<k:\n",
    "            j+=1\n",
    "        elif Sum==k:\n",
    "\n",
    "            curLenMax=max(j-i+1,curLenMax)\n",
    "            j+=1\n",
    "        else:\n",
    "            while Sum>k:\n",
    "                Sum=Sum-arr[i]\n",
    "                i+=1\n",
    "            if Sum==k:\n",
    "                curLenMax=max(j-i+1,curLenMax)\n",
    "                \n",
    "            j+=1\n",
    "    return curLenMax        \n",
    "print(lenOfLongSubarr([10, 5, 2, 7, 1, 9],6,15\n",
    "))                \n",
    "\n",
    "print(lenOfLongSubarr([4,1,1,1,3,2,5],7,5\n",
    "))"
   ]
  },
  {
   "cell_type": "code",
   "execution_count": null,
   "id": "126de78f",
   "metadata": {},
   "outputs": [],
   "source": []
  }
 ],
 "metadata": {
  "kernelspec": {
   "display_name": "Python 3",
   "language": "python",
   "name": "python3"
  },
  "language_info": {
   "codemirror_mode": {
    "name": "ipython",
    "version": 3
   },
   "file_extension": ".py",
   "mimetype": "text/x-python",
   "name": "python",
   "nbconvert_exporter": "python",
   "pygments_lexer": "ipython3",
   "version": "3.9.4"
  }
 },
 "nbformat": 4,
 "nbformat_minor": 5
}

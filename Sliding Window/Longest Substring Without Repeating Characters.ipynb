{
 "cells": [
  {
   "cell_type": "code",
   "execution_count": 51,
   "id": "589fc36d",
   "metadata": {},
   "outputs": [
    {
     "name": "stdout",
     "output_type": "stream",
     "text": [
      "7\n"
     ]
    }
   ],
   "source": [
    "\"\"\"\n",
    "Given a string s, find the length of the longest \n",
    "substring without repeating characters.\n",
    "\"\"\"\n",
    "def lengthOfLongestSubstring(s):\n",
    "    i,j,Max=0,0,0\n",
    "    ht={}\n",
    "    while j<len(s):\n",
    "        if s[j] in ht:\n",
    "            ht[s[j]]+=1\n",
    "        else:\n",
    "            ht[s[j]]=1\n",
    "\n",
    "\n",
    "        if len(ht)==j-i+1:\n",
    "            Max=max(Max,j-i+1)\n",
    "            j+=1\n",
    "        elif len(ht)<j-i+1:\n",
    "            while len(ht)<j-i+1:\n",
    "                ht[s[i]]-=1\n",
    "\n",
    "                if ht[s[i]]==0:\n",
    "                    ht.pop(s[i])\n",
    "                i+=1 \n",
    "            j+=1    \n",
    "    return (Max)          \n",
    "print(lengthOfLongestSubstring(\"eeydgwdykpv\"))    \n",
    "    "
   ]
  }
 ],
 "metadata": {
  "kernelspec": {
   "display_name": "Python 3 (ipykernel)",
   "language": "python",
   "name": "python3"
  },
  "language_info": {
   "codemirror_mode": {
    "name": "ipython",
    "version": 3
   },
   "file_extension": ".py",
   "mimetype": "text/x-python",
   "name": "python",
   "nbconvert_exporter": "python",
   "pygments_lexer": "ipython3",
   "version": "3.11.2"
  }
 },
 "nbformat": 4,
 "nbformat_minor": 5
}

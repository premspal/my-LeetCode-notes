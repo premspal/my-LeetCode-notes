{
 "cells": [
  {
   "cell_type": "code",
   "execution_count": 61,
   "id": "71c75b92",
   "metadata": {},
   "outputs": [
    {
     "name": "stdout",
     "output_type": "stream",
     "text": [
      "7\n"
     ]
    }
   ],
   "source": [
    "\"\"\"\n",
    "Given a string you need to print the size of the longest possible substring that has exactly K unique \n",
    "characters. If there is no possible substring then print -1.\n",
    "\"\"\"\n",
    "\"\"\"\n",
    "Important thing here is to identify the condtion and then transform that condion in mathmatical form.\n",
    "After ther we have to remove calculation for ith element when len(ht)>k.\n",
    "\"\"\"\n",
    "import math\n",
    "def longestKSubstr(s, k):\n",
    "    i,j,maximum=0,0,-math.inf\n",
    "    ht={}\n",
    "    \n",
    "    if len(s)<k:\n",
    "        return -1\n",
    "    while j<len(s):\n",
    "        if s[j] in ht:\n",
    "            ht[s[j]]+=1\n",
    "        else:\n",
    "            ht[s[j]]=1\n",
    "            \n",
    "        if len(ht)<k:\n",
    "            j+=1\n",
    "        elif len(ht)==k:\n",
    "            maximum=max(j-i+1,maximum)\n",
    "            j+=1\n",
    "        else:\n",
    "            \n",
    "            while len(ht)>k:\n",
    "                ht[s[i]]-=1\n",
    "                    \n",
    "                if  ht[s[i]]==0:\n",
    "                    ht.pop(s[i])   \n",
    "                i+=1                  \n",
    "                \n",
    "            j+=1\n",
    "            \n",
    "    if maximum==-math.inf:\n",
    "        return -1\n",
    "    return maximum    \n",
    "    \n",
    "print(longestKSubstr(\"aabacbebebe\",3))    \n",
    "                  "
   ]
  }
 ],
 "metadata": {
  "kernelspec": {
   "display_name": "Python 3",
   "language": "python",
   "name": "python3"
  },
  "language_info": {
   "codemirror_mode": {
    "name": "ipython",
    "version": 3
   },
   "file_extension": ".py",
   "mimetype": "text/x-python",
   "name": "python",
   "nbconvert_exporter": "python",
   "pygments_lexer": "ipython3",
   "version": "3.9.4"
  }
 },
 "nbformat": 4,
 "nbformat_minor": 5
}

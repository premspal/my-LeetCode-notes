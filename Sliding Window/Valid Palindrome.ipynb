{
 "cells": [
  {
   "cell_type": "code",
   "execution_count": 17,
   "id": "f4d3397d",
   "metadata": {},
   "outputs": [
    {
     "name": "stdout",
     "output_type": "stream",
     "text": [
      "True\n"
     ]
    }
   ],
   "source": [
    "'''\n",
    "Given a string s, return true if it is a palindrome, or false otherwise.\n",
    "'''\n",
    "\n",
    "'''\n",
    "1. alphnum() tell if charachter is alphanumeric or not\n",
    "2. We use two pointer to compare each string char to it's counter part.\n",
    "3. Two inner while loop ensure that l and r pointer never points to non alphanumeric char ever.\n",
    "'''\n",
    "\n",
    "def isPalindrome(s):\n",
    "    def alphnum(ch):\n",
    "        return ord(\"A\") <=ord(ch)<= ord(\"Z\") or ord(\"a\") <=ord(ch)<= ord(\"z\") or ord('0') <=ord(ch)<= ord('9')\n",
    "    \n",
    "    l,r=0,len(s)-1\n",
    "    \n",
    "    while l<r:\n",
    "        \n",
    "        while l<r and not alphnum(s[l]):\n",
    "            l+=1\n",
    "        while r>l and not alphnum(s[r]):\n",
    "            r-=1    \n",
    "            \n",
    "        if s[l].lower()!=s[r].lower():\n",
    "            return False\n",
    "        l,r=l+1,r-1\n",
    "        \n",
    "    return True   \n",
    "print(isPalindrome(\"A man, a plan, a canal: Panama\"))\n",
    "            "
   ]
  }
 ],
 "metadata": {
  "kernelspec": {
   "display_name": "Python 3 (ipykernel)",
   "language": "python",
   "name": "python3"
  },
  "language_info": {
   "codemirror_mode": {
    "name": "ipython",
    "version": 3
   },
   "file_extension": ".py",
   "mimetype": "text/x-python",
   "name": "python",
   "nbconvert_exporter": "python",
   "pygments_lexer": "ipython3",
   "version": "3.11.2"
  }
 },
 "nbformat": 4,
 "nbformat_minor": 5
}

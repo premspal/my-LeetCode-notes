{
 "cells": [
  {
   "cell_type": "code",
   "execution_count": 30,
   "id": "52f6f36d",
   "metadata": {},
   "outputs": [
    {
     "name": "stdout",
     "output_type": "stream",
     "text": [
      "[3, 3, 2, 5]\n"
     ]
    }
   ],
   "source": [
    "\"\"\"\n",
    "You are given an array of integers nums, there is a sliding window of size k which is moving from the very left of the array to the very right. You can only see the k numbers in the window. \n",
    "Each time the sliding window moves right by one position.\n",
    "\"\"\"\n",
    "\"\"\"\n",
    "The basic idea here is to keep only important elements in deque and remove which are not so important.\n",
    "\n",
    "How we are deciding which elements are important?\n",
    "A--B--C--D where D>B>C>A and window size 3\n",
    "So, as we encounder B>A after that A has no use for us neither in current window nor in next window.\n",
    "but we can't say same about C since as we move toward right ther is possibility there might be some\n",
    "element which are less than C. In that cas C can be maximumm. \n",
    "\n",
    "For reference : https://www.youtube.com/watch?v=xFJXtB5vSmM&list=PL_z_8CaSLPWeM8BDJmIYDaoQ5zuwyxnfj&index=6&ab_channel=AdityaVerma\n",
    "\n",
    "\"\"\"\n",
    "\n",
    "from collections import deque \n",
    "def maxSlidingWindow(nums, k):\n",
    "    ans=[]\n",
    "    dq=deque([])\n",
    "    i,j=0,0\n",
    "    \n",
    "    while j<len(nums):\n",
    "        while dq and nums[j]>nums[dq[-1]]:\n",
    "                dq.pop()\n",
    "        dq.append(j) \n",
    "        \n",
    "        if j-i+1<k:\n",
    "            j+=1\n",
    "        else:\n",
    "            \n",
    "            ans.append(nums[dq[0]])\n",
    "            if i==dq[0]:\n",
    "                dq.popleft()\n",
    "            i+=1\n",
    "            j+=1\n",
    "    return ans       \n",
    "print(maxSlidingWindow([1,3,1,2,0,5], 3))                      "
   ]
  }
 ],
 "metadata": {
  "kernelspec": {
   "display_name": "Python 3",
   "language": "python",
   "name": "python3"
  },
  "language_info": {
   "codemirror_mode": {
    "name": "ipython",
    "version": 3
   },
   "file_extension": ".py",
   "mimetype": "text/x-python",
   "name": "python",
   "nbconvert_exporter": "python",
   "pygments_lexer": "ipython3",
   "version": "3.9.4"
  }
 },
 "nbformat": 4,
 "nbformat_minor": 5
}

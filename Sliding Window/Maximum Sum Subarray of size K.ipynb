{
 "cells": [
  {
   "cell_type": "code",
   "execution_count": 11,
   "id": "923835e0",
   "metadata": {},
   "outputs": [
    {
     "name": "stdout",
     "output_type": "stream",
     "text": [
      "700\n"
     ]
    }
   ],
   "source": [
    "\"\"\"\n",
    "Given an array of integers Arr of size N and a number K. Return the maximum sum of a subarray of size K.\n",
    "\"\"\"\n",
    "\n",
    "\"\"\"\n",
    "Points below are for helping to understand execution of window not the actual sum.\n",
    "\n",
    "1.It is controling the number of times loop should run i.e. loop should stop after running on last window.\n",
    "2.i and j both start from 0. j is the main first window creator here who runs first on cells of first window.\n",
    "  It will keep adding window cells until it reaches end of window.\n",
    "3.What is j-i+1<K, explain?\n",
    "    1.Suppose 0 1 2 3 4 5 6 7 8 9 10 is array index and window is size k=3. i is on 0 and j is on 2.\n",
    "    2.How many window cells are form 8 to 10. Ans=3. If we subtract j-i we will get 2-0=2. It counted only cell 1 and 2.\n",
    "      But we have to include 0th cell too to make one complet window we do this by adding 1. So j-i+1 is one complete window.\n",
    "      And when it reaches to k means one window has been reached. So j-i+1=2-0+1=3<3. \n",
    "    3.One thing to note here is this if conditon only true for creating first window. After that every times it is fasle. Because\n",
    "      after this every time we will have one window as i and j moves forward. Means we will alwasy have window size=k for our use.\n",
    "4.As j reaces to end of first window. we move it one step ahead along with i to create sliding window effect.       \n",
    "      \n",
    "      \n",
    "  \n",
    "\"\"\"\n",
    "def maximumSumSubarray (K,Arr,N):\n",
    "    i,j,Sum,Max=0,0,0,-float('inf')\n",
    "    \n",
    "    while j<N:#1\n",
    "        Sum+=Arr[j]\n",
    "        if j-i+1<K: #3\n",
    "            j+=1\n",
    "        else:\n",
    "            Max=max(Max,Sum)\n",
    "            Sum-=Arr[i]\n",
    "            i+=1 #4\n",
    "            j+=1 #4\n",
    "    return Max\n",
    "print(maximumSumSubarray(2,[100, 200, 300, 400],4))\n",
    "    "
   ]
  }
 ],
 "metadata": {
  "kernelspec": {
   "display_name": "Python 3",
   "language": "python",
   "name": "python3"
  },
  "language_info": {
   "codemirror_mode": {
    "name": "ipython",
    "version": 3
   },
   "file_extension": ".py",
   "mimetype": "text/x-python",
   "name": "python",
   "nbconvert_exporter": "python",
   "pygments_lexer": "ipython3",
   "version": "3.9.4"
  }
 },
 "nbformat": 4,
 "nbformat_minor": 5
}

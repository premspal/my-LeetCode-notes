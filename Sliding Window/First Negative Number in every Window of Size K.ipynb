{
 "cells": [
  {
   "cell_type": "code",
   "execution_count": 15,
   "id": "9201e3c6",
   "metadata": {},
   "outputs": [
    {
     "name": "stdout",
     "output_type": "stream",
     "text": [
      "[-8, 0, -6, -6]\n"
     ]
    }
   ],
   "source": [
    "\"\"\"\n",
    "Given an array A[] of size N and a positive integer K,\n",
    "find the first negative integer for each and every window(contiguous subarray) of size K.\n",
    "\"\"\"\n",
    "\n",
    "\"\"\"\n",
    "1.Why we are using deque kind of data structure here?\n",
    "ans:In sliding window kind of problems  as we slide window  element that is not in scope of window becomes unimportant to us.\n",
    "    By using dq kind of data structure we can take advantage of this feature.  \n",
    "2.dq is not storing values but the indexes. I guess we can store the values but then it will be more complicated. Using just\n",
    "  indexes makes more sense here, as per our use.\n",
    "  \n",
    "3.Expline line,if i==dq[0]?\n",
    "ans.1)When i slide the window, the item that comes before sliding window will become unimportant to us. So once our calculation\n",
    "      is done for one window we need to remove this item if it exist in our dq. So, that it doesn't bother us in upcoming window.\n",
    "    2)We can also think in this way - as we start sliding the window every starting element of sliding window will become unimportant.\n",
    "    3)Now the question is how should I remove that element? - simple, every time i slide the window I check if unimportant value(pointed byi)\n",
    "     still exist in my dq. If yes, then I will delete this if not then I don't have to do anything.\n",
    "     \n",
    "     \n",
    "    \n",
    "\"\"\"\n",
    "from collections import deque\n",
    "def printFirstNegativeInteger( A, N, K):\n",
    "    i,j=0,0\n",
    "    dq=deque([])\n",
    "    answer=[]\n",
    "    while j<N:\n",
    "        if A[j]<0:\n",
    "            dq.append(j)\n",
    "        \n",
    "        if j-i+1<K:\n",
    "            j+=1\n",
    "        else:\n",
    "            if dq:\n",
    "                answer.append(A[dq[0]]) #2\n",
    "                if i==dq[0]: #3\n",
    "                    dq.popleft() #1\n",
    "                i+=1\n",
    "                j+=1\n",
    "            else:\n",
    "                answer.append(0)\n",
    "                i+=1\n",
    "                j+=1\n",
    "    return answer           \n",
    "    \n",
    "print(printFirstNegativeInteger( [-8, 2, 3, -6, 10],5,2)) "
   ]
  }
 ],
 "metadata": {
  "kernelspec": {
   "display_name": "Python 3",
   "language": "python",
   "name": "python3"
  },
  "language_info": {
   "codemirror_mode": {
    "name": "ipython",
    "version": 3
   },
   "file_extension": ".py",
   "mimetype": "text/x-python",
   "name": "python",
   "nbconvert_exporter": "python",
   "pygments_lexer": "ipython3",
   "version": "3.9.4"
  }
 },
 "nbformat": 4,
 "nbformat_minor": 5
}

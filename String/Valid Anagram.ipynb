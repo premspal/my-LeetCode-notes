{
 "cells": [
  {
   "cell_type": "code",
   "execution_count": 3,
   "id": "15687071",
   "metadata": {},
   "outputs": [
    {
     "name": "stdout",
     "output_type": "stream",
     "text": [
      "True\n"
     ]
    }
   ],
   "source": [
    "'''\n",
    "Given two strings s and t, return true if t is an anagram of s, and false otherwise.\n",
    "'''\n",
    "\n",
    "'''\n",
    "Using ht to count occurance of charachtr in both string and then comparing this values to see\n",
    "if they are same.\n",
    "'''\n",
    "def isAnagram(s,t):\n",
    "    if len(s)!=len(t):\n",
    "        return False\n",
    "    \n",
    "    hts,htt={},{}\n",
    "    \n",
    "    for i in range(len(s)):\n",
    "        hts[s[i]]=1+hts.get(s[i],0)\n",
    "        htt[t[i]]=1+htt.get(t[i],0)\n",
    "    for c in hts:\n",
    "        if hts[c]!=htt.get(c,0):\n",
    "            print(hts,htt)\n",
    "            return False\n",
    "    return True  \n",
    "\n",
    "print(isAnagram(\"rem\",\"mer\"))\n",
    "    "
   ]
  }
 ],
 "metadata": {
  "kernelspec": {
   "display_name": "Python 3 (ipykernel)",
   "language": "python",
   "name": "python3"
  },
  "language_info": {
   "codemirror_mode": {
    "name": "ipython",
    "version": 3
   },
   "file_extension": ".py",
   "mimetype": "text/x-python",
   "name": "python",
   "nbconvert_exporter": "python",
   "pygments_lexer": "ipython3",
   "version": "3.11.2"
  }
 },
 "nbformat": 4,
 "nbformat_minor": 5
}

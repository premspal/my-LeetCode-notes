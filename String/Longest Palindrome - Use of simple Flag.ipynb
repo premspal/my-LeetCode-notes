{
 "cells": [
  {
   "cell_type": "code",
   "execution_count": 5,
   "id": "1a9ce443",
   "metadata": {},
   "outputs": [
    {
     "name": "stdout",
     "output_type": "stream",
     "text": [
      "{'b': 2}\n",
      "2\n"
     ]
    }
   ],
   "source": [
    "'''\n",
    "Given a string s which consists of lowercase or uppercase letters, return the length of the longest palindrome that can be built with those letters.\n",
    "\n",
    "Letters are case sensitive, for example, \"Aa\" is not considered a palindrome here.\n",
    "'''\n",
    "'''\n",
    "1. We first stor accourance of all charachter in ht.\n",
    "2. Two important conditon:\n",
    "   - If occurance of ch is even we can use all of its counts to make pallindrome.\n",
    "   - If occurance of charachter is odd we can fully use all the counts of any one odd charachter.\n",
    "     For rest odd charachter we have to -1 from their counts to make them even so that we can use\n",
    "     this even counts to make pallindrome.\n",
    "3. To make this simple we first check if odd occurance charachter exist in our string. if yes then\n",
    "   we first do -1 from all the odd count of charachter occurance and later add +1 one time to \n",
    "   componsate this conditon (If occurance of charachter is odd we can fully use all the counts of \n",
    "   any one odd charachter).\n",
    "'''\n",
    "\n",
    "def longestPalindrome(s):\n",
    "    ht={}\n",
    "    ans=0\n",
    "    flag=False\n",
    "    for ch in s:\n",
    "        if ch in ht:\n",
    "            ht[ch]+=1\n",
    "        else:\n",
    "            ht[ch]=1\n",
    "    print(ht)        \n",
    "    for _,value in ht.items():\n",
    "        if value%2==0:\n",
    "            ans+=value\n",
    "        else:\n",
    "            flag=True\n",
    "            ans+=value-1\n",
    "            \n",
    "    if flag==True:\n",
    "        return ans+1\n",
    "    return ans       \n",
    "        \n",
    "print(longestPalindrome(\"bb\"))   \n",
    " "
   ]
  },
  {
   "cell_type": "code",
   "execution_count": null,
   "id": "f1ee3432",
   "metadata": {},
   "outputs": [],
   "source": []
  }
 ],
 "metadata": {
  "kernelspec": {
   "display_name": "Python 3 (ipykernel)",
   "language": "python",
   "name": "python3"
  },
  "language_info": {
   "codemirror_mode": {
    "name": "ipython",
    "version": 3
   },
   "file_extension": ".py",
   "mimetype": "text/x-python",
   "name": "python",
   "nbconvert_exporter": "python",
   "pygments_lexer": "ipython3",
   "version": "3.11.2"
  }
 },
 "nbformat": 4,
 "nbformat_minor": 5
}

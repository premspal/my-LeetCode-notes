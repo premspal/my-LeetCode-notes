{
 "cells": [
  {
   "cell_type": "code",
   "execution_count": null,
   "id": "530624b8",
   "metadata": {},
   "outputs": [],
   "source": [
    "'''\n",
    "Write a function to find the longest common prefix string amongst an array of strings.\n",
    "\n",
    "If there is no common prefix, return an empty string \"\".\n",
    "'''\n",
    "\n",
    "def longestCommonPrefix(strs):\n",
    "    res=\"\" # for storing result\n",
    "    \n",
    "    # this pointer helps to point each character of first string\n",
    "    for i in range(len(strs[0])):\n",
    "        # each char of first string then matched with the respective char of all the string in list. \n",
    "        for s in strs: \n",
    "            '''\n",
    "            If the first strin is shortes then first for loop will end after itrating all the \n",
    "            char of fitst string, but we need to mage what if shorter string exist in list other \n",
    "            than first string.\n",
    "             \n",
    "            i==len(s) control out of bound situation when there exist shorter string other than \n",
    "            first string. most of the time i < len(any string). if i==len(any string) it means\n",
    "            ther exit shorter string compare to first string and we have to stop the execution\n",
    "            of porgram since we need to find lonest common string in all the string.\n",
    "            '''\n",
    "            if i==len(s) or strs[0][i]!=s[i]:\n",
    "                return res\n",
    "        res+=s[0][i] \n",
    "    return res    \n",
    "# resources : https://www.youtube.com/watch?v=0sWShKIJoo4&ab_channel=NeetCode        "
   ]
  }
 ],
 "metadata": {
  "kernelspec": {
   "display_name": "Python 3 (ipykernel)",
   "language": "python",
   "name": "python3"
  },
  "language_info": {
   "codemirror_mode": {
    "name": "ipython",
    "version": 3
   },
   "file_extension": ".py",
   "mimetype": "text/x-python",
   "name": "python",
   "nbconvert_exporter": "python",
   "pygments_lexer": "ipython3",
   "version": "3.11.2"
  }
 },
 "nbformat": 4,
 "nbformat_minor": 5
}

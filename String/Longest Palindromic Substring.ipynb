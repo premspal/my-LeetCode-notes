{
 "cells": [
  {
   "cell_type": "code",
   "execution_count": null,
   "id": "41032b45",
   "metadata": {},
   "outputs": [],
   "source": [
    "'''\n",
    "Given a string s, return the longest  palindromic substring in s.\n",
    "'''\n",
    "\n",
    "'''\n",
    "1. Important thing to note is how we are checking if substring is palindrome or not.\n",
    "2. If we go by older mehode where we first pick substring then check if it is palindrome or not\n",
    "   It will take N^3 time. N^2 for picking substring and another N for calculating if it is\n",
    "   palindrome or not.\n",
    "3. another way where we start from middle and expand outward... parally checking if each charcher \n",
    "   mathed or not. This will take n^2 time.\n",
    "4. In this way every time we expand out ward we can have odd or even length palindrome. we can \n",
    "   write code of each of them under same for loop. whoever will have longest number of charachter\n",
    "   will get stored in res variable. \n",
    "\n",
    "re : https://www.youtube.com/watch?v=XYQecbcd6_c&ab_channel=NeetCode   \n",
    "   \n",
    "'''\n",
    "def longestPalindrome(s):\n",
    "    # result variable\n",
    "    resLen=0\n",
    "    res=\"\"\n",
    "    \n",
    "    for i in range(len(s)):\n",
    "        # variable which shows our center in string \n",
    "        l,r=i,i\n",
    "        \n",
    "        #for odd length #4\n",
    "        while l>=0 and r<len(s) and s[l]==s[r]:#3/setting up boundries when expanding outwards\n",
    "            if (r-l+1)>resLen: # length of palindromic substring\n",
    "                resLen=r-l+1\n",
    "                res=s[l:r+1]\n",
    "            l,r=l-1,r+1    \n",
    "            \n",
    "        #for even length #4 \n",
    "        l,r=i,i+1\n",
    "        while l>=0 and r<len(s) and s[l]==s[r]: #3\n",
    "            if (r-l+1)>resLen:\n",
    "                resLen=r-l+1\n",
    "                res=s[l:r+1]\n",
    "            l,r=l-1,r+1\n",
    "    return resLen  \n",
    "print(longestPalindrome(\"abccccdd\"))        "
   ]
  }
 ],
 "metadata": {
  "kernelspec": {
   "display_name": "Python 3 (ipykernel)",
   "language": "python",
   "name": "python3"
  },
  "language_info": {
   "codemirror_mode": {
    "name": "ipython",
    "version": 3
   },
   "file_extension": ".py",
   "mimetype": "text/x-python",
   "name": "python",
   "nbconvert_exporter": "python",
   "pygments_lexer": "ipython3",
   "version": "3.11.2"
  }
 },
 "nbformat": 4,
 "nbformat_minor": 5
}

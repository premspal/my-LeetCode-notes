{
 "cells": [
  {
   "cell_type": "code",
   "execution_count": null,
   "id": "a3790fbc",
   "metadata": {},
   "outputs": [],
   "source": [
    "def myAtoi(s):\n",
    "    s=s.lstrip()\n",
    "    i,sign,res=0,1,0\n",
    "    \n",
    "    if i<len(s) and (s[i]=='+' or s[i]=='-'):\n",
    "        if s[i]=='-':\n",
    "            sign=-1\n",
    "        i+=1    \n",
    "    while i<len(s) and s[i].isdigit():\n",
    "        res=res*10+int(s[i])\n",
    "        i+=1    \n",
    "    res=max(min(res*sign,2**31-1),-2**31)    \n",
    "\n",
    "    \n",
    "print(myAtoi(s\"4193 with words\")\n",
    "    \n",
    "    "
   ]
  }
 ],
 "metadata": {
  "kernelspec": {
   "display_name": "Python 3 (ipykernel)",
   "language": "python",
   "name": "python3"
  },
  "language_info": {
   "codemirror_mode": {
    "name": "ipython",
    "version": 3
   },
   "file_extension": ".py",
   "mimetype": "text/x-python",
   "name": "python",
   "nbconvert_exporter": "python",
   "pygments_lexer": "ipython3",
   "version": "3.11.2"
  }
 },
 "nbformat": 4,
 "nbformat_minor": 5
}

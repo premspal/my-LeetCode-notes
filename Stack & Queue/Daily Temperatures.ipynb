{
 "cells": [
  {
   "cell_type": "code",
   "execution_count": 4,
   "id": "9ea399d8",
   "metadata": {},
   "outputs": [
    {
     "name": "stdout",
     "output_type": "stream",
     "text": [
      "[1, 1, 4, 2, 1, 1, 0, 0]\n"
     ]
    }
   ],
   "source": [
    "\"\"\"\n",
    "Given an array of integers temperatures represents the daily temperatures, return an array answer \n",
    "such that answer[i] is the number of days you have to wait after the ith day to get a warmer \n",
    "temperature. If there is no future day for which this is possible, keep answer[i] == 0 instead.\n",
    "\"\"\"\n",
    "\n",
    "\"\"\"\n",
    "1.Here we are maintaining a stack=[] -->[index,temp] as we visit each day temperature.\n",
    "2.If we found a warmer value we calculate difference between found warmer value and cold stack values \n",
    "index. it will give the inbetween days. we store this days-answer in respective index(cold temp index)\n",
    "3.if we found a cold value then we just add this in our stack untill we found a warmer value.\n",
    "\n",
    "4.How while loop is working?\n",
    "    1.While loop condtion depends upon stack's top value.\n",
    "    2.When we remove pop values from the stack we are changing while loop conditon since it depends \n",
    "      upon stack. Untill this condition becomes false, while loop will run. \n",
    "      \n",
    "For Reference : https://www.youtube.com/watch?v=cTBiBSnjO3c&ab_channel=NeetCode    \n",
    "\"\"\"\n",
    "def dailyTemperatures(temperatures):\n",
    "    \n",
    "    res=[0]*len(temperatures)\n",
    "    stack=[]\n",
    "    for i,t in enumerate(temperatures):\n",
    "        while stack and t>stack[-1][1]: #4\n",
    "            tempI,temp=stack.pop()\n",
    "            res[tempI]=i-tempI\n",
    "        stack.append([i,t])\n",
    "    return res    \n",
    "print(dailyTemperatures([73,74,75,71,69,72,76,73]))    "
   ]
  }
 ],
 "metadata": {
  "kernelspec": {
   "display_name": "Python 3 (ipykernel)",
   "language": "python",
   "name": "python3"
  },
  "language_info": {
   "codemirror_mode": {
    "name": "ipython",
    "version": 3
   },
   "file_extension": ".py",
   "mimetype": "text/x-python",
   "name": "python",
   "nbconvert_exporter": "python",
   "pygments_lexer": "ipython3",
   "version": "3.11.2"
  }
 },
 "nbformat": 4,
 "nbformat_minor": 5
}

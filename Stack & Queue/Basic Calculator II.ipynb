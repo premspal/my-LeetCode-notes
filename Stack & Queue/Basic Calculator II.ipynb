{
 "cells": [
  {
   "cell_type": "code",
   "execution_count": 24,
   "id": "8457ae14",
   "metadata": {},
   "outputs": [
    {
     "name": "stdout",
     "output_type": "stream",
     "text": [
      "13\n"
     ]
    }
   ],
   "source": [
    "\"\"\"Given a string s which represents an expression, evaluate this expression and return its value. \n",
    "\n",
    "The integer division should truncate toward zero.\n",
    "\n",
    "You may assume that the given expression is always valid. \n",
    "All intermediate results will be in the range of [-231, 231 - 1].\n",
    "\"\"\"\n",
    "\"\"\"\n",
    "1.We are using stack as our ds to solve our problem because it allowed us to pop element from stack\n",
    "  whenever we encouter operator \"*\" or \"/\" in string. We then perform the operation and put the result\n",
    "  back in stack. In the end we just add all the element in stack. Doing so doesn't violate precedence rule.\n",
    "2.Important thing to notice is implementation. As we move through the stack char is leading and \n",
    "  operator is lagging. What it means is whenever we encounter an operator we are making calculation\n",
    "  based on previous operator and then storing current operator for next calculation.\n",
    "\n",
    "For Reference : https://www.youtube.com/watch?v=2EErQ25kKE8&ab_channel=SaiAnishMalla\n",
    "\"\"\"\n",
    "def calculate(s):\n",
    "    stack,cur_num,operator=[],0,\"+\"\n",
    "    nums=set(str(x) for x in range(10))\n",
    "    all_operators={\"+\",\"-\",\"*\",\"/\"}\n",
    "    for index in range(len(s)):\n",
    "        ch=s[index]\n",
    "        if ch in nums:\n",
    "            cur_num=cur_num*10+int(ch)\n",
    "        if ch in all_operators or index==len(s)-1:\n",
    "            if operator==\"+\":\n",
    "                stack.append(cur_num)\n",
    "            elif operator==\"-\":\n",
    "                stack.append(-cur_num)\n",
    "            elif operator==\"*\": \n",
    "                stack[-1]*=cur_num\n",
    "            else:\n",
    "                stack[-1]=int(stack[-1]/cur_num)\n",
    "                 \n",
    "            cur_num=0\n",
    "            operator=ch\n",
    "           \n",
    "    return sum(stack)       \n",
    "print(calculate(\"14-3/2\"))\n",
    "                "
   ]
  }
 ],
 "metadata": {
  "kernelspec": {
   "display_name": "Python 3 (ipykernel)",
   "language": "python",
   "name": "python3"
  },
  "language_info": {
   "codemirror_mode": {
    "name": "ipython",
    "version": 3
   },
   "file_extension": ".py",
   "mimetype": "text/x-python",
   "name": "python",
   "nbconvert_exporter": "python",
   "pygments_lexer": "ipython3",
   "version": "3.11.2"
  }
 },
 "nbformat": 4,
 "nbformat_minor": 5
}

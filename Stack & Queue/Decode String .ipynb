{
 "cells": [
  {
   "cell_type": "code",
   "execution_count": 16,
   "id": "53e12778",
   "metadata": {},
   "outputs": [
    {
     "name": "stdout",
     "output_type": "stream",
     "text": [
      "aaabcbc\n"
     ]
    }
   ],
   "source": [
    "\"\"\"\n",
    "Given an encoded string, return its decoded string.\n",
    "The encoding rule is: k[encoded_string], where the encoded_string inside the square brackets is being \n",
    "repeated exactly k times. Note that k is guaranteed to be a positive integer.You may assume that the \n",
    "input string is always valid; there are no extra white spaces, square brackets are well-formed, etc. \n",
    "Furthermore, you may assume that the original data does not contain any digits and that digits are only for those repeat numbers, k. \n",
    "For example, there will not be input like 3a or 2[4].\n",
    "\"\"\"\n",
    "\n",
    "\"\"\"\n",
    "1.Basically we are adding charachter in stack untill we found closing bracket \"]\".\n",
    "2.If we found closing bracket, it means there are charachter before that which we need to decode. \n",
    "  We loop ack till we found opening bracket. We then decode this part starting from Opening bracket to\n",
    "  closing bracket.\n",
    "3.After what we again move forward in search of next clsoing bracket. \n",
    "\n",
    "Why in some case (\"3[a2[c]]\") decoded string is in only one cell of stack and somecase decoded sting \n",
    "is spread in multiple cell of stack(\"3[a]2[bc]\")?\n",
    "ans:\n",
    "1.In case of string (\"3[a2[c]]\"). The whole thing is in nested form. It means if we start from inner\n",
    "  most bracket, once we reach to outer most bracket, whole decoded thing will be one big string in  \n",
    "  once cell of stack.\n",
    "2.In case of (\"3[a]2[bc]\"). We will be having multiple decoded sting spread in multiple cells of stack.\n",
    "  \n",
    "For Reference : https://www.youtube.com/watch?v=qB0zZpBJlh8&ab_channel=NeetCode\n",
    "\"\"\"\n",
    "\n",
    "def decodeString(s):\n",
    "    stack=[]\n",
    "    \n",
    "    for ch in s:\n",
    "        if ch!=\"]\":\n",
    "            stack.append(ch)\n",
    "        else:\n",
    "            subString=\"\"\n",
    "            while stack[-1]!=\"[\":\n",
    "                subString=stack.pop()+subString\n",
    "            stack.pop()\n",
    "            \n",
    "            k=\"\"\n",
    "            while stack and stack[-1].isdigit():\n",
    "                k=stack.pop()+k\n",
    "            stack.append(int(k)*subString)\n",
    "\n",
    "    return \"\".join(stack)   \n",
    "\n",
    "print(decodeString(\"3[a]2[bc]\"))\n",
    "                "
   ]
  }
 ],
 "metadata": {
  "kernelspec": {
   "display_name": "Python 3 (ipykernel)",
   "language": "python",
   "name": "python3"
  },
  "language_info": {
   "codemirror_mode": {
    "name": "ipython",
    "version": 3
   },
   "file_extension": ".py",
   "mimetype": "text/x-python",
   "name": "python",
   "nbconvert_exporter": "python",
   "pygments_lexer": "ipython3",
   "version": "3.11.2"
  }
 },
 "nbformat": 4,
 "nbformat_minor": 5
}

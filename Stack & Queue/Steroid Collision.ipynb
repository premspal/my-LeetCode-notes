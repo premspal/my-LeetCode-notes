{
 "cells": [
  {
   "cell_type": "code",
   "execution_count": null,
   "id": "0651bff8",
   "metadata": {},
   "outputs": [],
   "source": [
    "\"\"\"\n",
    "We are given an array asteroids of integers representing asteroids in a row.\n",
    "\n",
    "For each asteroid, the absolute value represents its size, and the sign represents its direction (positive meaning right, negative meaning left). Each asteroid moves at the same speed.\n",
    "\n",
    "Find out the state of the asteroids after all collisions. If two asteroids meet, the smaller one will explode. If both are the same size, both will explode.\n",
    "Two asteroids moving in the same direction will never meet.\n",
    "\n",
    "\"\"\"\n",
    "\"\"\"\n",
    "1.First we will check if two asteroids will even cloide or not. If the don't then we just add them\n",
    "  in our stack.\n",
    "2.If the do colide then we have to check who will win. We decide this by calculating \n",
    "diff=stack[-1]+a. \n",
    "  3 Possible outcome\n",
    "  1.If diff>0 asteroid in stack wins:\n",
    "      in this case we make current asteroid loose by not adding in the stack by making a=0 \n",
    "  2.If diff<0 current asteroid wins.\n",
    "      In this case we make current asteroid win by adding in stack and make stack asteroid loose by\n",
    "      removing from stack\n",
    "  3.if diff=0 Both loses\n",
    "      In this case we do both opperatin above to make both loose.\n",
    "\n",
    "In short to we are adding asteroid in stack if either it wins or does not colide. In both the conditoin\n",
    "a will alwasy have some mangitude. when it looses we manualy chanign its value to 0. we are using this\n",
    "to not add a in stack if it looses.\n",
    "  \n",
    "  \n",
    "\n",
    "\"\"\"\n",
    "\n",
    "def asteroidCollision(asteroids):\n",
    "    stack=[]\n",
    "    \n",
    "    for a in asteroids:\n",
    "        while stack and stack[-1]>0 and a<0:\n",
    "            diff=stack[-1]+a\n",
    "            \n",
    "            if diff>0:\n",
    "                a=0\n",
    "            elif diff<0:\n",
    "                stack.pop()\n",
    "            else:\n",
    "                a=0\n",
    "                stack.pop()\n",
    "        if a!=0:\n",
    "            stack.append(a)\n",
    "    return stack         \n",
    "            "
   ]
  }
 ],
 "metadata": {
  "kernelspec": {
   "display_name": "Python 3 (ipykernel)",
   "language": "python",
   "name": "python3"
  },
  "language_info": {
   "codemirror_mode": {
    "name": "ipython",
    "version": 3
   },
   "file_extension": ".py",
   "mimetype": "text/x-python",
   "name": "python",
   "nbconvert_exporter": "python",
   "pygments_lexer": "ipython3",
   "version": "3.11.2"
  }
 },
 "nbformat": 4,
 "nbformat_minor": 5
}

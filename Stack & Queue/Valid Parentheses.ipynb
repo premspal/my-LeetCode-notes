{
 "cells": [
  {
   "cell_type": "code",
   "execution_count": 3,
   "id": "708dc5ae",
   "metadata": {},
   "outputs": [
    {
     "name": "stdout",
     "output_type": "stream",
     "text": [
      "False\n"
     ]
    }
   ],
   "source": [
    "\"\"\"\n",
    "Given a string s containing just the characters '(', ')', '{', '}', '[' and ']', determine if the input string is valid.\n",
    "An input string is valid if:\n",
    "Open brackets must be closed by the same type of brackets.\n",
    "Open brackets must be closed in the correct order.\n",
    "Every close bracket has a corresponding open bracket of the same type.\n",
    "\"\"\"\n",
    "\n",
    "\"\"\"\n",
    "1.Basically we are using stack ds to check if current charchter c in for lopps meets our conditon. If at any point it fails \n",
    "we return false. \n",
    "\n",
    "2.Why we are checking if stack is empty or not before remvong the elements from the stack?\n",
    "ans:\n",
    "1.if stack is empty and c exist in our ht it means we found closing bracket before   encountering it's counter part opening\n",
    "  bracket. In that case our answer will always will be false. Since condtion 2 will never meet.\n",
    "2.In ohter wrods closing bracket found when stack is empty concludes that it doesn't have \n",
    "  counterpart opening bracket in order.\n",
    "  \n",
    "\"\"\"\n",
    "def isValid(s):\n",
    "    ht={\")\":\"(\",\"}\":\"{\",\"]\":\"[\"}\n",
    "    stack=[]\n",
    "    \n",
    "    for c in s:\n",
    "        if c in ht:\n",
    "            if stack and stack[-1]==ht[c]: #2\n",
    "                stack.pop()\n",
    "            else:\n",
    "                return False\n",
    "        else:\n",
    "            stack.append(c)\n",
    "            \n",
    "    return True if not stack else False\n",
    "\n",
    "print(isValid(\"([]{}\"))"
   ]
  },
  {
   "cell_type": "code",
   "execution_count": null,
   "id": "2e05a550",
   "metadata": {},
   "outputs": [],
   "source": []
  }
 ],
 "metadata": {
  "kernelspec": {
   "display_name": "Python 3 (ipykernel)",
   "language": "python",
   "name": "python3"
  },
  "language_info": {
   "codemirror_mode": {
    "name": "ipython",
    "version": 3
   },
   "file_extension": ".py",
   "mimetype": "text/x-python",
   "name": "python",
   "nbconvert_exporter": "python",
   "pygments_lexer": "ipython3",
   "version": "3.11.2"
  }
 },
 "nbformat": 4,
 "nbformat_minor": 5
}

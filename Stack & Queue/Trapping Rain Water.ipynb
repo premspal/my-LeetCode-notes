{
 "cells": [
  {
   "cell_type": "code",
   "execution_count": 1,
   "id": "93d5453f",
   "metadata": {},
   "outputs": [
    {
     "name": "stdout",
     "output_type": "stream",
     "text": [
      "[0, 4, 4, 4, 4, 4] [5, 5, 5, 5, 5, 0]\n",
      "9\n"
     ]
    }
   ],
   "source": [
    "\"\"\"\n",
    "Given n non-negative integers representing an elevation map where the width of each bar is 1, \n",
    "compute how much water it can trap after raining.\n",
    "\"\"\"\n",
    "\n",
    "\"\"\"\n",
    "1.Basically we are trying to calculate water level over each block. Water level depends upon \n",
    "  minimum of max size building avilabe each side of any block. Important thing to noice we will only\n",
    "  consider those building where water leve is greater thant there height because then only we\n",
    "  will be having trapped water there.\n",
    "\"\"\"\n",
    "def trap(height):\n",
    "    n = len(height)\n",
    "    maxLeft, maxRight = [0] * n, [0] * n\n",
    "\n",
    "    for i in range(1, n):\n",
    "        maxLeft[i] = max(height[i-1], maxLeft[i-1])\n",
    "    for i in range(n-2, -1, -1):\n",
    "        maxRight[i] = max(height[i+1], maxRight[i+1])\n",
    "\n",
    "    ans = 0\n",
    "    for i in range(n):\n",
    "        waterLevel = min(maxLeft[i], maxRight[i])\n",
    "        if waterLevel >= height[i]:\n",
    "            ans += waterLevel - height[i]\n",
    "    print(maxLeft,maxRight)        \n",
    "    return ans    \n",
    "print(trap([4,2,0,3,2,5]))"
   ]
  },
  {
   "cell_type": "code",
   "execution_count": null,
   "id": "ac023a86",
   "metadata": {},
   "outputs": [],
   "source": []
  }
 ],
 "metadata": {
  "kernelspec": {
   "display_name": "Python 3 (ipykernel)",
   "language": "python",
   "name": "python3"
  },
  "language_info": {
   "codemirror_mode": {
    "name": "ipython",
    "version": 3
   },
   "file_extension": ".py",
   "mimetype": "text/x-python",
   "name": "python",
   "nbconvert_exporter": "python",
   "pygments_lexer": "ipython3",
   "version": "3.11.2"
  }
 },
 "nbformat": 4,
 "nbformat_minor": 5
}

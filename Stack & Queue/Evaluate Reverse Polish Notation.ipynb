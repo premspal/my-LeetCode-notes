{
 "cells": [
  {
   "cell_type": "code",
   "execution_count": 1,
   "id": "0d6490ed",
   "metadata": {},
   "outputs": [
    {
     "name": "stdout",
     "output_type": "stream",
     "text": [
      "22\n"
     ]
    }
   ],
   "source": [
    "\"\"\"\n",
    "You are given an array of strings tokens that represents an arithmetic expression in a Reverse Polish \n",
    "Notation.\n",
    "\"\"\"\n",
    "\n",
    "\"\"\"\n",
    "1.In RPN basically we are considering only previous 2 values. It is an alternative to bodmas. \n",
    "2.The way it works we don't have to worry about previous 3rd value. In the end  if tokens(input) is right\n",
    "  we will get single value ouput in stack[0]\n",
    "3.When we  pop values from stack, values which comes first is actually second value and  value which\n",
    "  comes out 2nd is actually first value to consider.\n",
    "  \n",
    "For reference:https://www.youtube.com/watch?v=iu0082c4HDE&ab_channel=NeetCode \n",
    "\"\"\"\n",
    "\n",
    "def evalRPN(tokens):\n",
    "        stack=[]\n",
    "        for c in tokens:\n",
    "            \n",
    "            if c==\"+\":\n",
    "                stack.append(stack.pop()+stack.pop())\n",
    "                \n",
    "            elif c==\"-\": \n",
    "                a,b=stack.pop(),stack.pop() #3\n",
    "                stack.append(b-a)\n",
    "            elif c==\"*\": \n",
    "                stack.append(stack.pop()*stack.pop())\n",
    "            elif c==\"/\":\n",
    "                a,b=stack.pop(),stack.pop() #3\n",
    "                stack.append(int(b/a))\n",
    "            else:\n",
    "                stack.append(int(c))\n",
    "        return stack[0]      \n",
    "print(evalRPN([\"10\",\"6\",\"9\",\"3\",\"+\",\"-11\",\"*\",\"/\",\"*\",\"17\",\"+\",\"5\",\"+\"]))    \n",
    "                "
   ]
  }
 ],
 "metadata": {
  "kernelspec": {
   "display_name": "Python 3 (ipykernel)",
   "language": "python",
   "name": "python3"
  },
  "language_info": {
   "codemirror_mode": {
    "name": "ipython",
    "version": 3
   },
   "file_extension": ".py",
   "mimetype": "text/x-python",
   "name": "python",
   "nbconvert_exporter": "python",
   "pygments_lexer": "ipython3",
   "version": "3.11.2"
  }
 },
 "nbformat": 4,
 "nbformat_minor": 5
}

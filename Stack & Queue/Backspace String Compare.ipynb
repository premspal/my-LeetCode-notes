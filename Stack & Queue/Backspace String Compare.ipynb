{
 "cells": [
  {
   "cell_type": "code",
   "execution_count": 53,
   "id": "fd55b36c",
   "metadata": {},
   "outputs": [
    {
     "name": "stdout",
     "output_type": "stream",
     "text": [
      "True\n"
     ]
    }
   ],
   "source": [
    "\"\"\"\n",
    "Given two strings s and t, return true if they are equal when both are typed into empty text editors. '#' means a backspace character.\n",
    "\n",
    "Note that after backspacing an empty text, the text will continue empty.\n",
    "\"\"\"\n",
    "\n",
    "\"\"\"\n",
    "Basically using stack to remove last element when backspace \"#\" char found. \n",
    "\"\"\"\n",
    "def backspaceCompare(s,t):\n",
    "    s1=[]\n",
    "    s2=[]\n",
    "    for c in s:\n",
    "        if c==\"#\":\n",
    "            if s1:s1.pop()\n",
    "        else:\n",
    "            s1.append(c)\n",
    "                    \n",
    "    for c in t:\n",
    "        if c==\"#\":\n",
    "            if s2:s2.pop()\n",
    "        else:\n",
    "            s2.append(c)\n",
    "    if s1==s2:\n",
    "        return True\n",
    "    else:\n",
    "        return False\n",
    "         \n",
    "print(backspaceCompare(\"ab#c\",\"ad#c\"))        \n",
    "\n",
    "\n",
    "    "
   ]
  },
  {
   "cell_type": "code",
   "execution_count": null,
   "id": "b1528136",
   "metadata": {},
   "outputs": [],
   "source": []
  }
 ],
 "metadata": {
  "kernelspec": {
   "display_name": "Python 3 (ipykernel)",
   "language": "python",
   "name": "python3"
  },
  "language_info": {
   "codemirror_mode": {
    "name": "ipython",
    "version": 3
   },
   "file_extension": ".py",
   "mimetype": "text/x-python",
   "name": "python",
   "nbconvert_exporter": "python",
   "pygments_lexer": "ipython3",
   "version": "3.11.2"
  }
 },
 "nbformat": 4,
 "nbformat_minor": 5
}

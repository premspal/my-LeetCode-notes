{
 "cells": [
  {
   "cell_type": "code",
   "execution_count": null,
   "id": "a9f6d24a",
   "metadata": {},
   "outputs": [],
   "source": [
    "\"\"\"\n",
    "Design a stack that supports push, pop, top, and retrieving the minimum element in constant time.\n",
    "\"\"\"\n",
    "\n",
    "\"\"\"\n",
    "1.Basically we are using 2 stack to keep track of minium value added so far. \n",
    "2.Because of this we willalways have minimum value at th top of minStack[] at any given point of \n",
    "  time when pushing or poping value in stack.\n",
    "3.Because of this we can do getMink() operation in O(1) time. Otherwise we have to visit\n",
    "  every element in stack to find out minimum value.\n",
    "\"\"\"\n",
    "class MinStack:\n",
    "\n",
    "    def __init__(self):\n",
    "        self.stack=[]\n",
    "        self.minStack=[]\n",
    "        \n",
    "\n",
    "    def push(self, val: int) -> None:\n",
    "        self.stack.append(val)\n",
    "\n",
    "        val=min(val, self.minStack[-1] if self.minStack else val)\n",
    "\n",
    "        self.minStack.append(val)\n",
    "        \n",
    "\n",
    "    def pop(self) -> None:\n",
    "        self.stack.pop()\n",
    "        self.minStack.pop()\n",
    "        \n",
    "\n",
    "    def top(self) -> int:\n",
    "        return self.stack[-1]\n",
    "\n",
    "    def getMin(self) -> int:\n",
    "        return self.minStack[-1]\n",
    "        \n",
    "\n",
    "\n",
    "# Your MinStack object will be instantiated and called as such:\n",
    "# obj = MinStack()\n",
    "# obj.push(val)\n",
    "# obj.pop()\n",
    "# param_3 = obj.top()\n",
    "# param_4 = obj.getMin()"
   ]
  }
 ],
 "metadata": {
  "kernelspec": {
   "display_name": "Python 3 (ipykernel)",
   "language": "python",
   "name": "python3"
  },
  "language_info": {
   "codemirror_mode": {
    "name": "ipython",
    "version": 3
   },
   "file_extension": ".py",
   "mimetype": "text/x-python",
   "name": "python",
   "nbconvert_exporter": "python",
   "pygments_lexer": "ipython3",
   "version": "3.11.2"
  }
 },
 "nbformat": 4,
 "nbformat_minor": 5
}

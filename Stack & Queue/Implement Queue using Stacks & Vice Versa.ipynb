{
 "cells": [
  {
   "cell_type": "code",
   "execution_count": 3,
   "id": "459f1bc1",
   "metadata": {},
   "outputs": [
    {
     "name": "stdout",
     "output_type": "stream",
     "text": [
      "[4, 1, 2, 3]\n",
      "3\n"
     ]
    }
   ],
   "source": [
    "# Implement Queue using Stack\n",
    "\"\"\"\n",
    "There are two ways to do this.\n",
    "\n",
    "\"\"\"\n",
    "\"\"\"\n",
    "Method 1 (By making enQueue operation costly):\n",
    "This method makes sure that oldest entered element is always at the top of stack 1, \n",
    "so that deQueue operation just pops from stack1. \n",
    "To put the element at top of stack1, stack2 is used.\n",
    "\"\"\"\n",
    "class Queue:\n",
    "    def __init__(self):\n",
    "        self.s1=[1,2,3]\n",
    "        self.s2=[]\n",
    "    def enqueue(self,X):\n",
    "        # code here\n",
    "        while self.s1:\n",
    "            self.s2.append(self.s1.pop())\n",
    "        self.s1.append(X)  \n",
    "        while self.s2:\n",
    "            self.s1.append(self.s2.pop()) \n",
    "    def dequeue(self):\n",
    "        # code here\n",
    "        return self.s1.pop()\n",
    "obj=Queue()\n",
    "obj.enqueue(4)\n",
    "print(obj.s1)\n",
    "print(obj.dequeue())\n"
   ]
  },
  {
   "cell_type": "code",
   "execution_count": 7,
   "id": "4cdedf5e",
   "metadata": {},
   "outputs": [
    {
     "name": "stdout",
     "output_type": "stream",
     "text": [
      "[1, 2, 3, 4]\n",
      "[2, 3, 4]\n"
     ]
    }
   ],
   "source": [
    "\n",
    "\"\"\"\n",
    "Method 2 (By making dequeue operation costly):\n",
    "This method makes sure that oldest entered element is always at the front of stack 1, \n",
    "so that enque operation just adding element in the back of stack. \n",
    "but for the removing element from the front of stack stack 2 is used.\n",
    "\"\"\"\n",
    "\n",
    "class Queue:\n",
    "    def __init__(self):\n",
    "        self.s1=[1,2,3]\n",
    "        self.s2=[]\n",
    "    def enqueue(self,X):\n",
    "        # code here\n",
    "        self.s1.append(X)\n",
    "\n",
    "    def dequeue(self):\n",
    "        # code here\n",
    "        while len(self.s1)!=1:\n",
    "            self.s2.append(self.s1.pop())\n",
    "        self.s1.pop()  \n",
    "        while self.s2:\n",
    "            self.s1.append(self.s2.pop()) \n",
    "        \n",
    "    \n",
    "obj=Queue()\n",
    "obj.enqueue(4)\n",
    "print(obj.s1)\n",
    "obj.dequeue()\n",
    "print(obj.s1)\n",
    "    "
   ]
  },
  {
   "cell_type": "code",
   "execution_count": null,
   "id": "06e3ef51",
   "metadata": {},
   "outputs": [],
   "source": [
    "# Implement Stack using Queue\n",
    "\"\"\"\n",
    "In this case only two operation allowed to use.\n",
    "1.popleft()-Removing element form the begining of the queue\n",
    "2.append()-Adding element in the back of queue.\n",
    "\n",
    "Adding element is easy since we can use append() to add the element in the list.\n",
    "For removing element from the from-\n",
    "1.We first remove first element and add this to back of the queue.\n",
    "2.We do this untill we reach to the last element of the queue.\n",
    "3.This time we popleft() but did not add in the back.\n",
    "It means we have succesfully deleted last element only using popleft(). \n",
    "Since removing and adding element in end is propery of stack. It is implemendted. \n",
    "\n",
    "Plz refer-https://www.youtube.com/watch?v=rW4vm0-DLYc&ab_channel=NeetCode\n",
    "\"\"\"\n",
    "from collections import deque\n",
    "class MyStack:\n",
    "\n",
    "    def __init__(self):\n",
    "        self.dq=deque([])\n",
    "        \n",
    "\n",
    "    def push(self, x: int) -> None:\n",
    "        self.dq.append(x)\n",
    "        \n",
    "\n",
    "    def pop(self) -> int:\n",
    "        for i in range(len(self.dq)-1):\n",
    "            self.dq.append(self.dq.popleft())\n",
    "        return self.dq.popleft()    \n",
    "\n",
    "        \n",
    "\n",
    "    def top(self) -> int:\n",
    "        return self.dq[-1]\n",
    "        \n",
    "\n",
    "    def empty(self) -> bool:\n",
    "        if not self.dq:\n",
    "            return True\n",
    "        else:\n",
    "            False    \n",
    "        \n"
   ]
  }
 ],
 "metadata": {
  "kernelspec": {
   "display_name": "Python 3 (ipykernel)",
   "language": "python",
   "name": "python3"
  },
  "language_info": {
   "codemirror_mode": {
    "name": "ipython",
    "version": 3
   },
   "file_extension": ".py",
   "mimetype": "text/x-python",
   "name": "python",
   "nbconvert_exporter": "python",
   "pygments_lexer": "ipython3",
   "version": "3.11.2"
  }
 },
 "nbformat": 4,
 "nbformat_minor": 5
}
